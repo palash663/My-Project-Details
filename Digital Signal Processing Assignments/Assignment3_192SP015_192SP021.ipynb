{
 "cells": [
  {
   "cell_type": "markdown",
   "metadata": {},
   "source": [
    "Q. 1. The neural network has the following hyper parameters and input:\n",
    "Choose random weights and bias of the neuron and learning rate =01 and inputs to the\n",
    "neuron and target values are as follows.\n",
    "\n",
    "X1=4,2,1,3,1,6\n",
    "\n",
    "X2=1,8,0,2,4,7\n",
    "\n",
    "Y=2,14,1,-1,-7,8\n",
    "\n",
    "(a).Write a python code for predicted the output of neural network for given set of inputs using\n",
    "Stochastic Gradient Descent algorithm for the loss functions: ((i) Mean Square Error (ii) Huber Loss\n",
    "(iii) Squared Epsilon Hinge Loss (iv) Mean Absolute Error Loss\n",
    "(b) Plot comparative loss curve for at least 500 epochs."
   ]
  },
  {
   "cell_type": "code",
   "execution_count": 1,
   "metadata": {},
   "outputs": [],
   "source": [
    "import numpy as np\n",
    "from statistics import mean\n",
    "import matplotlib.pyplot as plt"
   ]
  },
  {
   "cell_type": "code",
   "execution_count": 2,
   "metadata": {},
   "outputs": [],
   "source": [
    "class Neural_network():\n",
    "    def __init__(self):\n",
    "        np.random.seed(1)\n",
    "        self.synaptic_weights = 2 * np.random.random((2, 1)) - 1\n",
    "    \n",
    "    def MAE(self,target ,y_hat):\n",
    "        return(np.sum(abs(y_hat-target))/target.shape[1])\n",
    "    \n",
    "    def MSE(self,target,y_hat):\n",
    "        A=np.sum((y_hat-target)**2)\n",
    "        return(A/2*len(y_hat))\n",
    "        \n",
    "    def Huber(self, target,y_hat, delta=1.):\n",
    "        return(np.where(np.abs(target-y_hat) < delta,.5*(target-y_hat)**2 , delta*(np.abs(target-y_hat)-0.5*delta)))\n",
    "#         if(abs(target-y_hat).all<delta):\n",
    "#             return(0.5*(target-y_hat)**2)\n",
    "#         else:\n",
    "#             return(delta((target-y_hat)-delta/2))\n",
    "        \n",
    "    def squared_Epsilon_hinge(self,y_pred,true):\n",
    "        epsilon = 0.1\n",
    "        loss = 0.5*(np.maximum(((y_pred-true)**2-epsilon**2),0.0))\n",
    "        return(loss)\n",
    "        \n",
    "    def forward(self,W,X):\n",
    "        return(np.dot(X,W.T))\n",
    "    \n"
   ]
  },
  {
   "cell_type": "code",
   "execution_count": 3,
   "metadata": {},
   "outputs": [],
   "source": [
    "Neural_net=Neural_network()"
   ]
  },
  {
   "cell_type": "code",
   "execution_count": 4,
   "metadata": {},
   "outputs": [
    {
     "name": "stdout",
     "output_type": "stream",
     "text": [
      "(6, 2)\n",
      "(6, 1)\n"
     ]
    }
   ],
   "source": [
    "inputs = np.array([[4, 1], [2, 8], [1, 0], [3, 2], [1, 4], [6, 7]])\n",
    "outputs = np.array([[2, -14, 1, -1, -7, -8]]).T\n",
    "print(inputs.shape)\n",
    "print(outputs.shape)"
   ]
  },
  {
   "cell_type": "code",
   "execution_count": 5,
   "metadata": {},
   "outputs": [
    {
     "name": "stdout",
     "output_type": "stream",
     "text": [
      "(1, 3)\n"
     ]
    }
   ],
   "source": [
    "one = np.ones((inputs.shape[0], 1))  \n",
    "X = np.concatenate((inputs, one), axis=1) \n",
    "weights = (Neural_net.synaptic_weights).T\n",
    "b = np.zeros((weights.shape[0], 1))\n",
    "W = np.concatenate((weights, b), axis=1) \n",
    "print(W.shape)"
   ]
  },
  {
   "cell_type": "code",
   "execution_count": 6,
   "metadata": {},
   "outputs": [],
   "source": [
    "iterations=1000\n",
    "learning_rate=0.001"
   ]
  },
  {
   "cell_type": "code",
   "execution_count": 7,
   "metadata": {},
   "outputs": [
    {
     "name": "stdout",
     "output_type": "stream",
     "text": [
      "[[ 0.99680038 -2.00104754  0.01678591]]\n"
     ]
    }
   ],
   "source": [
    "                                      \"\"\" Squared Epsilon Hinge Loss \"\"\"\n",
    "loss_plot=[]\n",
    "for j in range(iterations):\n",
    "    y_pred = Neural_net.forward(W, X)\n",
    "    delta1 = (y_pred - outputs)\n",
    "    loss = Neural_net.squared_Epsilon_hinge(y_pred, outputs)\n",
    "    loss = np.mean(loss)\n",
    "    W = W - (learning_rate *np.matmul(delta1.T,X))\n",
    "    loss_plot.append(loss)\n",
    "print(W)"
   ]
  },
  {
   "cell_type": "code",
   "execution_count": 8,
   "metadata": {},
   "outputs": [
    {
     "data": {
      "image/png": "[encoded data removed]",
      "text/plain": [
       "<Figure size 432x288 with 1 Axes>"
      ]
     },
     "metadata": {
      "needs_background": "light"
     },
     "output_type": "display_data"
    },
    {
     "name": "stdout",
     "output_type": "stream",
     "text": [
      "[[  2.00293989]\n",
      " [-13.99799362]\n",
      " [  1.01358629]\n",
      " [ -0.99490803]\n",
      " [ -6.99060386]\n",
      " [ -8.00974457]]\n"
     ]
    }
   ],
   "source": [
    "plt.title(\"Squared Epsilon Hinge Loss\")\n",
    "plt.plot(loss_plot)\n",
    "plt.show()\n",
    "y_actual = Neural_net.forward(W, X)\n",
    "print(y_actual)\n",
    "    "
   ]
  },
  {
   "cell_type": "code",
   "execution_count": 9,
   "metadata": {},
   "outputs": [
    {
     "name": "stdout",
     "output_type": "stream",
     "text": [
      "[[ 0.99680038 -2.00104754  0.01678591]]\n"
     ]
    },
    {
     "data": {
      "image/png": "[encoded data removed]",
      "text/plain": [
       "<Figure size 432x288 with 1 Axes>"
      ]
     },
     "metadata": {
      "needs_background": "light"
     },
     "output_type": "display_data"
    },
    {
     "name": "stdout",
     "output_type": "stream",
     "text": [
      "[[  2.00293989]\n",
      " [-13.99799362]\n",
      " [  1.01358629]\n",
      " [ -0.99490803]\n",
      " [ -6.99060386]\n",
      " [ -8.00974457]]\n"
     ]
    }
   ],
   "source": [
    "                                              \"\"\" Mean Absolute Error Loss \"\"\"\n",
    "Neural_net=Neural_network()\n",
    "inputs = np.array([[4, 1], [2, 8], [1, 0], [3, 2], [1, 4], [6, 7]])\n",
    "outputs = np.array([[2, -14, 1, -1, -7, -8]]).T\n",
    "one = np.ones((inputs.shape[0], 1))  \n",
    "X = np.concatenate((inputs, one), axis=1) \n",
    "weights = (Neural_net.synaptic_weights).T\n",
    "b = np.zeros((weights.shape[0], 1))\n",
    "W = np.concatenate((weights, b), axis=1) \n",
    "iterations=1000\n",
    "learning_rate=0.001\n",
    "loss_plot=[]\n",
    "for j in range(iterations):\n",
    "    y_pred = Neural_net.forward(W, X)\n",
    "    delta1 = (y_pred - outputs)\n",
    "    loss = Neural_net.MAE(y_pred, outputs)\n",
    "    loss = np.mean(loss)\n",
    "    W = W - (learning_rate *np.matmul(delta1.T,X))\n",
    "    loss_plot.append(loss)\n",
    "print(W)\n",
    "plt.title(\" Mean Absolute Error Loss \")\n",
    "plt.plot(loss_plot)\n",
    "plt.show()\n",
    "y_actual = Neural_net.forward(W, X)\n",
    "print(y_actual)"
   ]
  },
  {
   "cell_type": "code",
   "execution_count": 10,
   "metadata": {},
   "outputs": [
    {
     "name": "stdout",
     "output_type": "stream",
     "text": [
      "[[ 0.99680038 -2.00104754  0.01678591]]\n"
     ]
    },
    {
     "data": {
      "image/png": "[encoded data removed]",
      "text/plain": [
       "<Figure size 432x288 with 1 Axes>"
      ]
     },
     "metadata": {
      "needs_background": "light"
     },
     "output_type": "display_data"
    },
    {
     "name": "stdout",
     "output_type": "stream",
     "text": [
      "[[  2.00293989]\n",
      " [-13.99799362]\n",
      " [  1.01358629]\n",
      " [ -0.99490803]\n",
      " [ -6.99060386]\n",
      " [ -8.00974457]]\n"
     ]
    }
   ],
   "source": [
    "                                              \"\"\" Huber Loss  \"\"\"\n",
    "Neural_net=Neural_network()\n",
    "inputs = np.array([[4, 1], [2, 8], [1, 0], [3, 2], [1, 4], [6, 7]])\n",
    "outputs = np.array([[2, -14, 1, -1, -7, -8]]).T\n",
    "one = np.ones((inputs.shape[0], 1))  \n",
    "X = np.concatenate((inputs, one), axis=1) \n",
    "weights = (Neural_net.synaptic_weights).T\n",
    "b = np.zeros((weights.shape[0], 1))\n",
    "W = np.concatenate((weights, b), axis=1) \n",
    "iterations=1000\n",
    "learning_rate=0.001\n",
    "loss_plot=[]\n",
    "for j in range(iterations):\n",
    "    y_pred = Neural_net.forward(W, X)\n",
    "    delta1 = (y_pred - outputs)\n",
    "    loss = Neural_net.Huber(y_pred, outputs)\n",
    "    loss = np.mean(loss)\n",
    "    W = W - (learning_rate *np.matmul(delta1.T,X))\n",
    "    loss_plot.append(loss)\n",
    "print(W)\n",
    "plt.title(\" Huber Loss  \")\n",
    "plt.plot(loss_plot)\n",
    "plt.show()\n",
    "y_actual = Neural_net.forward(W, X)\n",
    "print(y_actual)"
   ]
  },
  {
   "cell_type": "code",
   "execution_count": 11,
   "metadata": {},
   "outputs": [
    {
     "name": "stdout",
     "output_type": "stream",
     "text": [
      "[[ 0.99680038 -2.00104754  0.01678591]]\n"
     ]
    },
    {
     "data": {
      "image/png": "[encoded data removed]",
      "text/plain": [
       "<Figure size 432x288 with 1 Axes>"
      ]
     },
     "metadata": {
      "needs_background": "light"
     },
     "output_type": "display_data"
    },
    {
     "name": "stdout",
     "output_type": "stream",
     "text": [
      "[[  2.00293989]\n",
      " [-13.99799362]\n",
      " [  1.01358629]\n",
      " [ -0.99490803]\n",
      " [ -6.99060386]\n",
      " [ -8.00974457]]\n"
     ]
    }
   ],
   "source": [
    "                                              \"\"\"  Mean Square Error \"\"\"\n",
    "Neural_net=Neural_network()\n",
    "inputs = np.array([[4, 1], [2, 8], [1, 0], [3, 2], [1, 4], [6, 7]])\n",
    "outputs = np.array([[2, -14, 1, -1, -7, -8]]).T\n",
    "one = np.ones((inputs.shape[0], 1))  \n",
    "X = np.concatenate((inputs, one), axis=1) \n",
    "weights = (Neural_net.synaptic_weights).T\n",
    "b = np.zeros((weights.shape[0], 1))\n",
    "W = np.concatenate((weights, b), axis=1) \n",
    "iterations=1000\n",
    "learning_rate=0.001\n",
    "loss_plot=[]\n",
    "for j in range(iterations):\n",
    "    y_pred = Neural_net.forward(W, X)\n",
    "    delta1 = (y_pred - outputs)\n",
    "    loss = Neural_net.MSE(y_pred, outputs)\n",
    "    loss = np.mean(loss)\n",
    "    W = W - (learning_rate *np.matmul(delta1.T,X))\n",
    "    loss_plot.append(loss)\n",
    "print(W)\n",
    "plt.title(\"  Mean Square Error \")\n",
    "plt.plot(loss_plot)\n",
    "plt.show()\n",
    "y_actual = Neural_net.forward(W, X)\n",
    "print(y_actual)"
   ]
  },
  {
   "cell_type": "markdown",
   "metadata": {},
   "source": [
    "Q. 2. Build a model to recognize diabetes-from pima-indians-diabetes-database.(i)Use Stochastic\n",
    "gradient descent algorithm to learn model with parameters for α = 0.01 and random parameters of the\n",
    "model for loss functions (a) binary cross entropy (b) Dice Loss (c) tversky loss_ (d) Focal loss (e)\n",
    "Lovazs softmax loss\n",
    "(ii) Print confusion matrix\n",
    "(iii) Calculate classification metrics such as precision, recall, f1-score and accuracy each loss function"
   ]
  },
  {
   "cell_type": "code",
   "execution_count": 252,
   "metadata": {},
   "outputs": [],
   "source": [
    "# binary classification with logistic regression\n",
    "import pandas as pd\n",
    "import numpy as np\n",
    "from sklearn.model_selection import train_test_split\n",
    "import matplotlib.pyplot as plt\n"
   ]
  },
  {
   "cell_type": "code",
   "execution_count": 254,
   "metadata": {},
   "outputs": [
    {
     "data": {
      "text/plain": [
       "(768, 9)"
      ]
     },
     "execution_count": 254,
     "metadata": {},
     "output_type": "execute_result"
    }
   ],
   "source": [
    "data = pd.read_csv('prima_dataset.csv')\n",
    "data.shape"
   ]
  },
  {
   "cell_type": "code",
   "execution_count": 255,
   "metadata": {},
   "outputs": [],
   "source": [
    "# normalization\n",
    "data_norm = np.linalg.norm(np.array(data.iloc[:,0:8]),axis = 1,keepdims = True)\n",
    "final_data = np.array(data.iloc[:,0:8])/data_norm"
   ]
  },
  {
   "cell_type": "code",
   "execution_count": 256,
   "metadata": {},
   "outputs": [
    {
     "name": "stdout",
     "output_type": "stream",
     "text": [
      "(650, 8) (118, 8)\n"
     ]
    }
   ],
   "source": [
    "#\n",
    "X_train = np.array(final_data[0:650 ,0:8])\n",
    "X_test = np.array(final_data[650: ,0:8])\n",
    "X_train = X_train.astype('float')\n",
    "X_test = X_test.astype('float')\n",
    "print(X_train.shape ,X_test.shape)\n",
    "\n"
   ]
  },
  {
   "cell_type": "code",
   "execution_count": 257,
   "metadata": {},
   "outputs": [
    {
     "name": "stdout",
     "output_type": "stream",
     "text": [
      "(650, 1)\n",
      "[[1.]\n",
      " [0.]\n",
      " [1.]\n",
      " [0.]\n",
      " [1.]\n",
      " [0.]\n",
      " [1.]\n",
      " [0.]\n",
      " [1.]\n",
      " [1.]]\n"
     ]
    }
   ],
   "source": [
    "Y_train=np.array([data.iloc[0:650,8]]).T\n",
    "Y_test = np.array([data.iloc[650: ,8]]).T\n",
    "Y_train = Y_train.astype('float')\n",
    "Y_test = Y_test.astype('float')\n",
    "print(Y_train.shape)\n",
    "print(Y_train[:10])\n"
   ]
  },
  {
   "cell_type": "code",
   "execution_count": 258,
   "metadata": {},
   "outputs": [],
   "source": [
    "def sigmoid(x):\n",
    "    return (1/(1+np.exp(-x)))"
   ]
  },
  {
   "cell_type": "code",
   "execution_count": 9,
   "metadata": {},
   "outputs": [
    {
     "ename": "IndentationError",
     "evalue": "unindent does not match any outer indentation level (<tokenize>, line 4)",
     "output_type": "error",
     "traceback": [
      "\u001b[1;36m  File \u001b[1;32m\"<tokenize>\"\u001b[1;36m, line \u001b[1;32m4\u001b[0m\n\u001b[1;33m    def dice_loss(y_enc, output):\u001b[0m\n\u001b[1;37m    ^\u001b[0m\n\u001b[1;31mIndentationError\u001b[0m\u001b[1;31m:\u001b[0m unindent does not match any outer indentation level\n"
     ]
    }
   ],
   "source": [
    "def bce_loss( y_enc, output):\n",
    "        cost = -y_enc * (np.log10(output))-(1 - y_enc) * np.log10(1 - output)\n",
    "        return cost\n",
    "    def dice_loss(y_enc, output):\n",
    "        numerator = 2 * tf.reduce_sum(y_enc * output, axis=-1)\n",
    "        denominator = tf.reduce_sum(y_enc + output, axis=-1)\n",
    "        cost = 1 - ((numerator + 1) / (denominator + 1))\n",
    "        return cost\n",
    "    def focal_loss( y_enc, output):\n",
    "        gamma = np.random.uniform(0,5)\n",
    "        alpha = np.random.uniform(0,1)\n",
    "        cost = -(alpha*(1-output)**gamma)*y_enc * (np.log10(output))-((1-alpha)*(output)**gamma)*(1 - y_enc) * np.log10(1 - output)\n",
    "        return cost\n",
    "    def tseversky_loss() y_enc, output):\n",
    "        beta = 0.5\n",
    "        num = output*y_enc\n",
    "        denom = num+beta*(1-y_enc)*output+(1-beta)*y_enc*(1-output)\n",
    "        cost = num/denom\n",
    "        return cost"
   ]
  },
  {
   "cell_type": "code",
   "execution_count": null,
   "metadata": {},
   "outputs": [],
   "source": []
  },
  {
   "cell_type": "code",
   "execution_count": 259,
   "metadata": {},
   "outputs": [],
   "source": [
    "def forward(X ,W ,b):\n",
    "    a = np.dot(X,W) + b\n",
    "    Z= sigmoid(a)\n",
    "    return a ,Z"
   ]
  },
  {
   "cell_type": "code",
   "execution_count": 260,
   "metadata": {},
   "outputs": [],
   "source": [
    "def cost(label,yh):\n",
    "    m = label.shape[0]\n",
    "    \n",
    "    j = (np.sum(1 * ((label) * np.log(yh) + (1-label)* np.log(1 - yh))))\n",
    "    return -j/m\n",
    "    "
   ]
  },
  {
   "cell_type": "code",
   "execution_count": 261,
   "metadata": {},
   "outputs": [
    {
     "name": "stdout",
     "output_type": "stream",
     "text": [
      "[[0.50311037]\n",
      " [0.50334023]\n",
      " [0.50242622]\n",
      " [0.50310547]\n",
      " [0.50272754]\n",
      " [0.50281045]\n",
      " [0.50323597]\n",
      " [0.502133  ]\n",
      " [0.50204356]\n",
      " [0.50286723]]\n",
      "0.6951570750617435\n"
     ]
    }
   ],
   "source": [
    "w = np.random.rand(8,1)*0.01\n",
    "b = 0\n",
    "a,z =forward(X_train ,w ,b)\n",
    "\n",
    "print(z[:10])\n",
    "#print(b.shape)\n",
    "loss = cost(Y_train ,z)\n",
    "print(loss)"
   ]
  },
  {
   "cell_type": "code",
   "execution_count": 272,
   "metadata": {},
   "outputs": [],
   "source": [
    "lr = 0.01\n",
    "epochs = 50000"
   ]
  },
  {
   "cell_type": "code",
   "execution_count": 277,
   "metadata": {},
   "outputs": [
    {
     "name": "stdout",
     "output_type": "stream",
     "text": [
      "number of epochs 0 cost is 0.5945122441735012 \n",
      "number of epochs 500 cost is 0.5945121522761273 \n",
      "number of epochs 1000 cost is 0.5945120604204657 \n",
      "number of epochs 1500 cost is 0.5945119686064935 \n",
      "number of epochs 2000 cost is 0.5945118768341874 \n",
      "number of epochs 2500 cost is 0.5945117851035243 \n",
      "number of epochs 3000 cost is 0.5945116934144812 \n",
      "number of epochs 3500 cost is 0.5945116017670349 \n",
      "number of epochs 4000 cost is 0.5945115101611624 \n",
      "number of epochs 4500 cost is 0.5945114185968408 \n",
      "number of epochs 5000 cost is 0.5945113270740466 \n",
      "number of epochs 5500 cost is 0.5945112355927572 \n",
      "number of epochs 6000 cost is 0.5945111441529493 \n",
      "number of epochs 6500 cost is 0.5945110527546 \n",
      "number of epochs 7000 cost is 0.5945109613976863 \n",
      "number of epochs 7500 cost is 0.5945108700821852 \n",
      "number of epochs 8000 cost is 0.5945107788080738 \n",
      "number of epochs 8500 cost is 0.594510687575329 \n",
      "number of epochs 9000 cost is 0.5945105963839279 \n",
      "number of epochs 9500 cost is 0.5945105052338476 \n",
      "number of epochs 10000 cost is 0.5945104141250651 \n",
      "number of epochs 10500 cost is 0.5945103230575577 \n",
      "number of epochs 11000 cost is 0.5945102320313023 \n",
      "number of epochs 11500 cost is 0.594510141046276 \n",
      "number of epochs 12000 cost is 0.5945100501024561 \n",
      "number of epochs 12500 cost is 0.5945099591998195 \n",
      "number of epochs 13000 cost is 0.5945098683383436 \n",
      "number of epochs 13500 cost is 0.5945097775180055 \n",
      "number of epochs 14000 cost is 0.5945096867387822 \n",
      "number of epochs 14500 cost is 0.5945095960006513 \n",
      "number of epochs 15000 cost is 0.5945095053035895 \n",
      "number of epochs 15500 cost is 0.5945094146475743 \n",
      "number of epochs 16000 cost is 0.5945093240325832 \n",
      "number of epochs 16500 cost is 0.5945092334585927 \n",
      "number of epochs 17000 cost is 0.5945091429255808 \n",
      "number of epochs 17500 cost is 0.5945090524335245 \n",
      "number of epochs 18000 cost is 0.5945089619824009 \n",
      "number of epochs 18500 cost is 0.5945088715721876 \n",
      "number of epochs 19000 cost is 0.5945087812028617 \n",
      "number of epochs 19500 cost is 0.5945086908744004 \n",
      "number of epochs 20000 cost is 0.5945086005867815 \n",
      "number of epochs 20500 cost is 0.594508510339982 \n",
      "number of epochs 21000 cost is 0.5945084201339792 \n",
      "number of epochs 21500 cost is 0.5945083299687507 \n",
      "number of epochs 22000 cost is 0.5945082398442738 \n",
      "number of epochs 22500 cost is 0.5945081497605258 \n",
      "number of epochs 23000 cost is 0.5945080597174843 \n",
      "number of epochs 23500 cost is 0.5945079697151265 \n",
      "number of epochs 24000 cost is 0.5945078797534302 \n",
      "number of epochs 24500 cost is 0.5945077898323724 \n",
      "number of epochs 25000 cost is 0.5945076999519309 \n",
      "number of epochs 25500 cost is 0.594507610112083 \n",
      "number of epochs 26000 cost is 0.5945075203128061 \n",
      "number of epochs 26500 cost is 0.594507430554078 \n",
      "number of epochs 27000 cost is 0.594507340835876 \n",
      "number of epochs 27500 cost is 0.5945072511581777 \n",
      "number of epochs 28000 cost is 0.5945071615209605 \n",
      "number of epochs 28500 cost is 0.5945070719242022 \n",
      "number of epochs 29000 cost is 0.5945069823678801 \n",
      "number of epochs 29500 cost is 0.5945068928519719 \n",
      "number of epochs 30000 cost is 0.5945068033764552 \n",
      "number of epochs 30500 cost is 0.5945067139413077 \n",
      "number of epochs 31000 cost is 0.5945066245465068 \n",
      "number of epochs 31500 cost is 0.5945065351920302 \n",
      "number of epochs 32000 cost is 0.5945064458778557 \n",
      "number of epochs 32500 cost is 0.5945063566039608 \n",
      "number of epochs 33000 cost is 0.5945062673703232 \n",
      "number of epochs 33500 cost is 0.5945061781769204 \n",
      "number of epochs 34000 cost is 0.5945060890237304 \n",
      "number of epochs 34500 cost is 0.5945059999107306 \n",
      "number of epochs 35000 cost is 0.594505910837899 \n",
      "number of epochs 35500 cost is 0.5945058218052133 \n",
      "number of epochs 36000 cost is 0.594505732812651 \n",
      "number of epochs 36500 cost is 0.5945056438601899 \n",
      "number of epochs 37000 cost is 0.5945055549478079 \n",
      "number of epochs 37500 cost is 0.5945054660754828 \n",
      "number of epochs 38000 cost is 0.5945053772431923 \n",
      "number of epochs 38500 cost is 0.5945052884509141 \n",
      "number of epochs 39000 cost is 0.5945051996986264 \n",
      "number of epochs 39500 cost is 0.5945051109863065 \n",
      "number of epochs 40000 cost is 0.5945050223139325 \n",
      "number of epochs 40500 cost is 0.5945049336814825 \n",
      "number of epochs 41000 cost is 0.594504845088934 \n",
      "number of epochs 41500 cost is 0.5945047565362649 \n",
      "number of epochs 42000 cost is 0.5945046680234531 \n",
      "number of epochs 42500 cost is 0.5945045795504769 \n",
      "number of epochs 43000 cost is 0.5945044911173136 \n",
      "number of epochs 43500 cost is 0.5945044027239416 \n",
      "number of epochs 44000 cost is 0.5945043143703387 \n",
      "number of epochs 44500 cost is 0.5945042260564826 \n",
      "number of epochs 45000 cost is 0.5945041377823517 \n",
      "number of epochs 45500 cost is 0.5945040495479237 \n",
      "number of epochs 46000 cost is 0.5945039613531765 \n",
      "number of epochs 46500 cost is 0.5945038731980884 \n",
      "number of epochs 47000 cost is 0.5945037850826373 \n",
      "number of epochs 47500 cost is 0.5945036970068011 \n",
      "number of epochs 48000 cost is 0.594503608970558 \n",
      "number of epochs 48500 cost is 0.5945035209738858 \n",
      "number of epochs 49000 cost is 0.5945034330167629 \n",
      "number of epochs 49500 cost is 0.5945033450991672 \n"
     ]
    }
   ],
   "source": [
    "total_loss=[]\n",
    "for i in range(epochs):\n",
    "    a ,z = forward(X_train,w ,b)\n",
    "    \n",
    "    m = z.shape[0]\n",
    "    loss = cost(Y_train ,z)\n",
    "    \n",
    "    dz = z - Y_train\n",
    "    dw = np.dot(X_train.T , dz)/m\n",
    "    db = np.mean(dz)\n",
    "    w = w - lr * dw\n",
    "    b = b - lr * db\n",
    "    \n",
    "    \n",
    "    total_loss.append(loss)\n",
    "    if(i%500==0):\n",
    "        print(\"number of epochs {0} cost is {1} \".format(i , loss))\n",
    "    \n"
   ]
  },
  {
   "cell_type": "code",
   "execution_count": 278,
   "metadata": {},
   "outputs": [],
   "source": [
    "def predict(yh , label):\n",
    "    y_pred = (yh[:]>=.5).astype('float')    #with astype('uint8') accuracy showing -333 so change to float\n",
    "    predict = 1- np.mean(np.abs(y_pred -label))\n",
    "    return (predict*100)"
   ]
  },
  {
   "cell_type": "code",
   "execution_count": 279,
   "metadata": {},
   "outputs": [
    {
     "name": "stdout",
     "output_type": "stream",
     "text": [
      "train_acc = 66.76923076923077 %\n"
     ]
    },
    {
     "data": {
      "image/png": "[encoded data removed]",
      "text/plain": [
       "<Figure size 432x288 with 1 Axes>"
      ]
     },
     "metadata": {
      "needs_background": "light"
     },
     "output_type": "display_data"
    }
   ],
   "source": [
    "plt.xlabel('epoch')\n",
    "plt.ylabel('loss')\n",
    "plt.plot( np.arange(epochs), total_loss) #plotting cost vs epoch\n",
    "prediction = predict(z , Y_train )\n",
    "print(\"train_acc =\", prediction , \"%\")  "
   ]
  },
  {
   "cell_type": "code",
   "execution_count": 280,
   "metadata": {},
   "outputs": [
    {
     "name": "stdout",
     "output_type": "stream",
     "text": [
      "Test_Accuracy: 62.71186440677966 %\n"
     ]
    }
   ],
   "source": [
    "\n",
    "yh_pred = sigmoid(np.dot(X_test,w) + b)\n",
    "test_prediction = predict(yh_pred , Y_test)\n",
    "print('Test_Accuracy:',test_prediction,'%')\n"
   ]
  },
  {
   "cell_type": "code",
   "execution_count": 281,
   "metadata": {},
   "outputs": [],
   "source": [
    "from sklearn.metrics import confusion_matrix \n",
    "from sklearn.metrics import accuracy_score \n",
    "from sklearn.metrics import f1_score\n",
    "from sklearn.metrics import precision_score\n",
    "from sklearn.metrics import recall_score\n",
    "from sklearn.metrics import classification_report "
   ]
  },
  {
   "cell_type": "code",
   "execution_count": 282,
   "metadata": {},
   "outputs": [
    {
     "name": "stdout",
     "output_type": "stream",
     "text": [
      "(118, 1)\n",
      "(118, 1)\n",
      "Confusion Matrix:\n",
      "[[73  0]\n",
      " [45  0]]\n",
      "Predicted Accuarcy :\n",
      "0.6186440677966102\n",
      "Precison score :\n",
      "[0.61864407 0.        ]\n",
      "Recall score :\n",
      "[1. 0.]\n",
      "F1 score :\n",
      "[0.76439791 0.        ]\n",
      "Accuracy Report :               precision    recall  f1-score   support\n",
      "\n",
      "           0       0.62      1.00      0.76        73\n",
      "           1       0.00      0.00      0.00        45\n",
      "\n",
      "    accuracy                           0.62       118\n",
      "   macro avg       0.31      0.50      0.38       118\n",
      "weighted avg       0.38      0.62      0.47       118\n",
      "\n"
     ]
    }
   ],
   "source": [
    "Y_pred = yh_pred.astype('int')\n",
    "Y_test = Y_test.astype('int')\n",
    "print(Y_test.shape)\n",
    "print(Y_pred.shape)\n",
    "actual = Y_test \n",
    "\n",
    "predicted = Y_pred\n",
    "\n",
    "results = confusion_matrix(actual, predicted) \n",
    "accu_predicted=accuracy_score(actual, predicted)\n",
    "precison=precision_score(actual, predicted, average=None)\n",
    "recall=recall_score(actual, predicted,average=None)\n",
    "F1=f1_score(actual, predicted,average=None)\n",
    "report=classification_report(actual, predicted)\n",
    "\n",
    "print(\"Confusion Matrix:\")\n",
    "print(results)\n",
    "print(\"Predicted Accuarcy :\")\n",
    "print(accu_predicted)\n",
    "print(\"Precison score :\")\n",
    "print(precison)\n",
    "print(\"Recall score :\")\n",
    "print(recall)\n",
    "print(\"F1 score :\")\n",
    "print(F1)\n",
    "print(\"Accuracy Report :\",report) \n"
   ]
  },
  {
   "cell_type": "code",
   "execution_count": 1,
   "metadata": {},
   "outputs": [],
   "source": [
    "#Nueral Network\n",
    "import pandas as pd\n",
    "import numpy as np\n",
    "from sklearn.model_selection import train_test_split\n",
    "import matplotlib.pyplot as plt\n",
    "from sklearn.metrics import confusion_matrix \n",
    "from sklearn.metrics import accuracy_score \n",
    "from sklearn.metrics import f1_score\n",
    "from sklearn.metrics import precision_score\n",
    "from sklearn.metrics import recall_score\n",
    "from sklearn.metrics import classification_report \n"
   ]
  },
  {
   "cell_type": "code",
   "execution_count": 2,
   "metadata": {},
   "outputs": [
    {
     "data": {
      "text/plain": [
       "(768, 9)"
      ]
     },
     "execution_count": 2,
     "metadata": {},
     "output_type": "execute_result"
    }
   ],
   "source": [
    "data = pd.read_csv('prima_dataset.csv')\n",
    "data.shape"
   ]
  },
  {
   "cell_type": "code",
   "execution_count": 3,
   "metadata": {},
   "outputs": [],
   "source": [
    "data_norm = np.linalg.norm(np.array(data.iloc[:,0:8]),axis = 1,keepdims = True)\n",
    "final_data = np.array(data.iloc[:,0:8])/data_norm"
   ]
  },
  {
   "cell_type": "code",
   "execution_count": 4,
   "metadata": {},
   "outputs": [
    {
     "name": "stdout",
     "output_type": "stream",
     "text": [
      "(8, 650) (8, 118)\n",
      "(1, 650)\n",
      "(1, 118)\n"
     ]
    }
   ],
   "source": [
    "X_train = np.array(final_data[0:650 ,0:8]).T\n",
    "X_test = np.array(final_data[650: ,0:8]).T\n",
    "X_train = X_train.astype('float')\n",
    "X_test = X_test.astype('float')\n",
    "print(X_train.shape ,X_test.shape)\n",
    "Y_train=np.array([data.iloc[0:650,8]])\n",
    "Y_test = np.array([data.iloc[650: ,8]])\n",
    "Y_train = Y_train.astype('float')\n",
    "Y_test = Y_test.astype('float')\n",
    "print(Y_train.shape)\n",
    "print(Y_test.shape)\n",
    "#print(Y_train[:10])"
   ]
  },
  {
   "cell_type": "code",
   "execution_count": 5,
   "metadata": {},
   "outputs": [],
   "source": [
    "np.random.seed(1)"
   ]
  },
  {
   "cell_type": "code",
   "execution_count": 7,
   "metadata": {},
   "outputs": [
    {
     "name": "stdout",
     "output_type": "stream",
     "text": [
      "8 1\n"
     ]
    }
   ],
   "source": [
    "n_x = X_train.shape[0]\n",
    "n_h = 5\n",
    "n_y = Y_train.shape[0]\n",
    "print(n_x,n_y)"
   ]
  },
  {
   "cell_type": "code",
   "execution_count": 8,
   "metadata": {},
   "outputs": [],
   "source": [
    "def ini_parameter(n_x ,n_h ,n_y):\n",
    "    np.random.seed(2)\n",
    "    W1 = np.random.randn(n_h ,n_x) * .01\n",
    "    b1 =np.zeros((n_h,1))\n",
    "    W2 = np.random.randn(n_y,n_h)* .01\n",
    "    b2 = np.zeros((n_y ,1))\n",
    "    \n",
    "   \n",
    "    \n",
    "    parameters = {\"W1\": W1,\n",
    "                  \"b1\": b1,\n",
    "                  \"W2\": W2,\n",
    "                  \"b2\": b2}\n",
    "    return parameters"
   ]
  },
  {
   "cell_type": "code",
   "execution_count": 9,
   "metadata": {},
   "outputs": [],
   "source": [
    "def sigmoid(x):\n",
    "    return 1/(1+np.exp(-x))\n",
    "\n"
   ]
  },
  {
   "cell_type": "code",
   "execution_count": 10,
   "metadata": {},
   "outputs": [],
   "source": [
    "def forward_propagation(X , parameters):\n",
    "    \n",
    "    W1 = parameters[\"W1\"]\n",
    "    b1 = parameters[\"b1\"]\n",
    "    W2 = parameters[\"W2\"]\n",
    "    b2 = parameters[\"b2\"]\n",
    "    \n",
    "    Z1 = np.dot(W1,X) +b1\n",
    "    \n",
    "    A1 =np.tanh(Z1)\n",
    "   \n",
    "    Z2 = np.dot(W2,A1) + b2\n",
    "   \n",
    "    A2 =sigmoid(Z2)\n",
    "    \n",
    "    \n",
    "    cache = {\"Z1\":Z1,\n",
    "            \"A1\" : A1,\n",
    "             \"Z2\" : Z2,\n",
    "            \"A2\" : A2}\n",
    "    \n",
    "    return A2,cache\n",
    "    "
   ]
  },
  {
   "cell_type": "code",
   "execution_count": 11,
   "metadata": {},
   "outputs": [],
   "source": [
    "def compute_cost(A2 ,Y , parameters):\n",
    "    m = Y.shape[1]\n",
    "    logprobs = np.multiply(np.log(A2), Y) + np.multiply((1 - Y), np.log(1 - A2))\n",
    "    cost = - np.sum(logprobs) /m\n",
    "    cost = float(np.squeeze(cost))\n",
    "    return cost\n"
   ]
  },
  {
   "cell_type": "code",
   "execution_count": 12,
   "metadata": {},
   "outputs": [],
   "source": [
    "def backward_propogation(parameters,cache,X,Y):\n",
    "    W1=parameters[\"W1\"]\n",
    "    b1=parameters[\"b1\"]\n",
    "    W2=parameters[\"W2\"]\n",
    "    b2=parameters[\"b2\"]\n",
    "    \n",
    "    A1= cache[\"A1\"]\n",
    "    Z1 =cache[\"Z1\"]\n",
    "    A2 =cache[\"A2\"]\n",
    "    Z2 =cache[\"Z2\"]\n",
    "    \n",
    "    m =X.shape[1]\n",
    "    dZ2 = A2 -Y\n",
    "    dW2= 1/m * np.dot(dZ2,A1.T)\n",
    "    db2 = 1/m * np.sum(dZ2 ,axis=1,keepdims =True)\n",
    "    dZ1 = np.dot(W2.T,dZ2) * (1-np.power(A1,2))\n",
    "    dW1 = 1/m * np.dot(dZ1 ,X.T)\n",
    "    db1= 1/m * np.sum(dZ1 ,axis =1 ,keepdims = True)\n",
    "    \n",
    "    grads = {\"dW2\":dW2,\n",
    "            \"db2\":db2,\n",
    "            \"dW1\" : dW1,\n",
    "            \"db1\": db1}\n",
    "    \n",
    "    return grads\n",
    "    "
   ]
  },
  {
   "cell_type": "code",
   "execution_count": 15,
   "metadata": {},
   "outputs": [],
   "source": [
    "def update_parameters(parameters ,grads ,lr):\n",
    "    W1 = parameters[\"W1\"]\n",
    "    b1 = parameters[\"b1\"]\n",
    "    W2 = parameters[\"W2\"]\n",
    "    b2 = parameters[\"b2\"]\n",
    "    \n",
    "    dW1 = grads[\"dW1\"]\n",
    "    db1 = grads[\"db1\"]\n",
    "    dW2 = grads[\"dW2\"]\n",
    "    db2 = grads[\"db2\"]\n",
    "    \n",
    "    W1 = W1 - lr * dW1\n",
    "    b1 = b1 -lr *db1\n",
    "    W2 = W2 - lr * dW2\n",
    "    b2 = b2 - lr * db2\n",
    "    \n",
    "    parameters={\"W1\" : W1,\n",
    "               \"b1\" : b1,\n",
    "               \"W2\" : W2,\n",
    "               \"b2\" : b2}\n",
    "    return parameters\n",
    "    \n",
    "    \n",
    "    \n",
    "    \n",
    "    "
   ]
  },
  {
   "cell_type": "code",
   "execution_count": 16,
   "metadata": {},
   "outputs": [],
   "source": [
    "def nn_model(X,Y,n_h,num_iter ,print_cost =False):\n",
    "    np.random.seed(3)\n",
    "    n_y = Y.shape[0] \n",
    "    n_x  =X.shape[0]\n",
    "    parameters =ini_parameter(n_x, n_h, n_y)\n",
    "    W1 = parameters[\"W1\"]\n",
    "    b1 = parameters[\"b1\"]\n",
    "    W2 = parameters[\"W2\"]\n",
    "    b2 = parameters[\"b2\"]\n",
    "    total_cost = []\n",
    "    \n",
    "    for i in range(0,num_iter):\n",
    "        A2, cache = forward_propagation(X, parameters)\n",
    "        cost = compute_cost(A2, Y, parameters)\n",
    "        total_cost.append(cost)\n",
    "        grads = backward_propogation(parameters, cache, X, Y)\n",
    "        parameters = update_parameters(parameters, grads ,0.1)\n",
    "        if print_cost and i % 1000 == 0:\n",
    "            print (\"Cost after iteration %i: %f\" %(i, cost))\n",
    "    \n",
    "\n",
    "    return parameters,total_cost\n",
    "        \n",
    "        "
   ]
  },
  {
   "cell_type": "code",
   "execution_count": 17,
   "metadata": {},
   "outputs": [
    {
     "name": "stdout",
     "output_type": "stream",
     "text": [
      "Cost after iteration 0: 0.693204\n",
      "Cost after iteration 1000: 0.642679\n",
      "Cost after iteration 2000: 0.629681\n",
      "Cost after iteration 3000: 0.609626\n",
      "Cost after iteration 4000: 0.605763\n",
      "Cost after iteration 5000: 0.601384\n",
      "Cost after iteration 6000: 0.595972\n",
      "Cost after iteration 7000: 0.590390\n",
      "Cost after iteration 8000: 0.584986\n",
      "Cost after iteration 9000: 0.579879\n"
     ]
    }
   ],
   "source": [
    "parameters ,total_cost = nn_model(X_train, Y_train, 4, num_iter=10000, print_cost=True)"
   ]
  },
  {
   "cell_type": "code",
   "execution_count": null,
   "metadata": {},
   "outputs": [],
   "source": []
  },
  {
   "cell_type": "code",
   "execution_count": 18,
   "metadata": {},
   "outputs": [
    {
     "data": {
      "image/png": "[encoded data removed]",
      "text/plain": [
       "<Figure size 432x288 with 1 Axes>"
      ]
     },
     "metadata": {
      "needs_background": "light"
     },
     "output_type": "display_data"
    }
   ],
   "source": [
    "plt.plot(total_cost)\n",
    "plt.show()"
   ]
  },
  {
   "cell_type": "code",
   "execution_count": 19,
   "metadata": {},
   "outputs": [],
   "source": [
    "def predict(parameters ,X):\n",
    "    A2 ,cache = forward_propagation(X ,parameters)\n",
    "    \n",
    "    prediction = np.round(A2)\n",
    "    return prediction"
   ]
  },
  {
   "cell_type": "code",
   "execution_count": 23,
   "metadata": {},
   "outputs": [
    {
     "name": "stdout",
     "output_type": "stream",
     "text": [
      "(1, 118)\n",
      "(1, 118)\n"
     ]
    }
   ],
   "source": [
    "yh_pred = predict(parameters,X_test)\n",
    "print(Y_test.shape)\n",
    "print(yh_pred.shape)\n",
    "actual=Y_test[0]\n",
    "\n",
    "predicted = yh_pred[0]\n"
   ]
  },
  {
   "cell_type": "code",
   "execution_count": 24,
   "metadata": {},
   "outputs": [
    {
     "name": "stdout",
     "output_type": "stream",
     "text": [
      "Confusion Matrix:\n",
      "[[66  7]\n",
      " [33 12]]\n",
      "Predicted Accuarcy :\n",
      "0.6610169491525424\n",
      "Precison score :\n",
      "[0.66666667 0.63157895]\n",
      "Recall score :\n",
      "[0.90410959 0.26666667]\n",
      "F1 score :\n",
      "[0.76744186 0.375     ]\n",
      "Accuracy Report :               precision    recall  f1-score   support\n",
      "\n",
      "         0.0       0.67      0.90      0.77        73\n",
      "         1.0       0.63      0.27      0.38        45\n",
      "\n",
      "    accuracy                           0.66       118\n",
      "   macro avg       0.65      0.59      0.57       118\n",
      "weighted avg       0.65      0.66      0.62       118\n",
      "\n"
     ]
    }
   ],
   "source": [
    "results = confusion_matrix(actual, predicted) \n",
    "accu_predicted=accuracy_score(actual, predicted)\n",
    "precison=precision_score(actual, predicted, average=None)\n",
    "recall=recall_score(actual, predicted,average=None)\n",
    "F1=f1_score(actual, predicted,average=None)\n",
    "report=classification_report(actual, predicted)\n",
    "\n",
    "print(\"Confusion Matrix:\")\n",
    "print(results)\n",
    "print(\"Predicted Accuarcy :\")\n",
    "print(accu_predicted)\n",
    "print(\"Precison score :\")\n",
    "print(precison)\n",
    "print(\"Recall score :\")\n",
    "print(recall)\n",
    "print(\"F1 score :\")\n",
    "print(F1)\n",
    "print(\"Accuracy Report :\",report) \n"
   ]
  },
  {
   "cell_type": "code",
   "execution_count": null,
   "metadata": {},
   "outputs": [],
   "source": []
  },
  {
   "cell_type": "markdown",
   "metadata": {},
   "source": [
    "Q. 3. Build a model to recognize Iris-setosa, Iris -virginica and Iris-versicolor from the Iris Dataset\n",
    "which contains four features (length and width of sepals and petals) of 50 samples of three species of\n",
    "Iris (Iris setosa, Iris virginica and Iris versicolor. (i)Visualize data by boxplot of Sepal Length & Sepal\n",
    "width and Petal Length and width for three IRIS species.\n",
    "(ii) Use Stochastic gradient descent algorithm to learn model with parameters for α = 0.01 and random\n",
    "parameters of the model for loss functions (a) Softmax loss (b) Focal loss (c) Lovazs softmax loss\n",
    "(iii) Print confusion matrix\n",
    "\n",
    "\n",
    "(iv) Calculate classification metrics such precision, recall, f1-score, and accuracy of Iris-setosa, Iris-\n",
    "versicolor, Iris-virginica for each loss function\n",
    "\n",
    "\n",
    "(v) Visualize classified data by Scatter plot"
   ]
  },
  {
   "cell_type": "code",
   "execution_count": 1,
   "metadata": {},
   "outputs": [],
   "source": [
    "import numpy as np\n",
    "import pandas as pd\n",
    "import matplotlib.pyplot as plt\n",
    "from sklearn import datasets\n",
    "from scipy.special import expit\n",
    "import sys\n",
    "import tensorflow as tf\n",
    "from sklearn.model_selection import train_test_split\n",
    "%matplotlib inline"
   ]
  },
  {
   "cell_type": "code",
   "execution_count": 2,
   "metadata": {},
   "outputs": [],
   "source": [
    "from sklearn.metrics import confusion_matrix \n",
    "from sklearn.metrics import accuracy_score \n",
    "from sklearn.metrics import f1_score\n",
    "from sklearn.metrics import precision_score\n",
    "from sklearn.metrics import recall_score\n",
    "from sklearn.metrics import classification_report "
   ]
  },
  {
   "cell_type": "code",
   "execution_count": 3,
   "metadata": {},
   "outputs": [],
   "source": [
    "iris = datasets.load_iris()\n",
    "X = iris['data']\n",
    "y = iris['target']\n",
    "\n",
    "X_train, X_test, y_train, y_test = train_test_split(X, y, test_size=0.2, random_state=1)"
   ]
  },
  {
   "cell_type": "code",
   "execution_count": 4,
   "metadata": {},
   "outputs": [
    {
     "name": "stdout",
     "output_type": "stream",
     "text": [
      "(4, 120) (4, 30)\n"
     ]
    }
   ],
   "source": [
    "yt_train = y_train.reshape(y_train.shape[0],1) \n",
    "yt_test = y_test.reshape(y_test.shape[0],1)\n",
    "\n",
    "xt_train = X_train.T\n",
    "xt_test = X_test.T\n",
    "print(xt_train.shape ,xt_test.shape)"
   ]
  },
  {
   "cell_type": "code",
   "execution_count": 5,
   "metadata": {},
   "outputs": [
    {
     "name": "stdout",
     "output_type": "stream",
     "text": [
      "(3, 120)\n"
     ]
    }
   ],
   "source": [
    "#one hot encoding\n",
    "def one_hot_encoding(C ,y):     #C is no_of_classes in the dataset\n",
    "    label = (np.eye(C)[y.reshape(-1)]).T\n",
    "    return label\n",
    "\n",
    "labels = one_hot_encoding(3 , yt_train)\n",
    "print(labels.shape)"
   ]
  },
  {
   "cell_type": "code",
   "execution_count": 54,
   "metadata": {},
   "outputs": [],
   "source": [
    "def layer_size(X,Y):\n",
    "    n_x = X.shape[0]\n",
    "    n_y = Y.shape[0]\n",
    "    n_h = 7\n",
    "    return (n_x,n_h,n_y)"
   ]
  },
  {
   "cell_type": "code",
   "execution_count": 50,
   "metadata": {},
   "outputs": [
    {
     "name": "stdout",
     "output_type": "stream",
     "text": [
      "4 2 3\n"
     ]
    }
   ],
   "source": [
    "(n_x ,n_h ,n_y) = layer_size(xt_train ,labels)\n",
    "print(n_x ,n_h,n_y)"
   ]
  },
  {
   "cell_type": "code",
   "execution_count": 58,
   "metadata": {},
   "outputs": [],
   "source": [
    "def initialize_parameters(n_x,n_h,n_y):\n",
    "   # np.random.seed(2)\n",
    "    W1 = np.zeros((n_h,n_x))\n",
    "    W2  =np.zeros((n_y ,n_h))\n",
    "    b1 = np.zeros((n_h ,1))\n",
    "    b2 = np.zeros((n_y ,1))\n",
    "    \n",
    "    parameters = {\"W1\" :W1,\n",
    "                 \"W2\" : W2,\n",
    "                 \"b1\" : b1,\n",
    "                 \"b2\" :b2}\n",
    "    return parameters"
   ]
  },
  {
   "cell_type": "code",
   "execution_count": 10,
   "metadata": {},
   "outputs": [],
   "source": [
    "def sigmoid(x):\n",
    "    return 1/(1+np.exp(-x))"
   ]
  },
  {
   "cell_type": "code",
   "execution_count": 11,
   "metadata": {},
   "outputs": [],
   "source": [
    "def softmax(a):                                \n",
    "    z = np.exp(a)\n",
    "    s = np.sum(z , axis =1 ,keepdims = True)\n",
    "    return z/s"
   ]
  },
  {
   "cell_type": "code",
   "execution_count": 12,
   "metadata": {},
   "outputs": [],
   "source": [
    "def forward_propagation(X ,parameters):\n",
    "    W1= parameters[\"W1\"]\n",
    "    W2 = parameters[\"W2\"]\n",
    "    b1 = parameters[\"b1\"]\n",
    "    b2 = parameters[\"b2\"]\n",
    "    \n",
    "    Z1=np.dot(W1 ,X) +b1\n",
    "    A1 = sigmoid(Z1)\n",
    "    Z2 = np.dot(W2 ,A1) +b2\n",
    "    A2 = softmax(Z2)\n",
    "   # print(A2.shape)\n",
    "    \n",
    "    assert(A2.shape == (3, X.shape[1]))\n",
    "    \n",
    "    cache = {\"Z1\" : Z1,\n",
    "            \"Z2\" : Z2,\n",
    "            \"A1\" : A1,\n",
    "            \"A2\" : A2}\n",
    "    return A2 ,cache"
   ]
  },
  {
   "cell_type": "code",
   "execution_count": 13,
   "metadata": {},
   "outputs": [
    {
     "data": {
      "text/plain": [
       "{'W1': array([[-0.00762524, -0.01750946, -0.00710378, -0.00089172],\n",
       "        [-0.01338739, -0.01256217, -0.00624361, -0.01365486],\n",
       "        [ 0.00737838, -0.00052454,  0.00206413,  0.00847374]]),\n",
       " 'W2': array([[-0.00398237,  0.00771505, -0.01190055],\n",
       "        [ 0.00703729, -0.01152311, -0.00754052],\n",
       "        [ 0.01084571,  0.00041956,  0.00232554]]),\n",
       " 'b1': array([[0.],\n",
       "        [0.],\n",
       "        [0.]]),\n",
       " 'b2': array([[0.],\n",
       "        [0.],\n",
       "        [0.]])}"
      ]
     },
     "execution_count": 13,
     "metadata": {},
     "output_type": "execute_result"
    }
   ],
   "source": [
    "initialize_parameters(n_x ,n_h ,n_y)"
   ]
  },
  {
   "cell_type": "code",
   "execution_count": 17,
   "metadata": {},
   "outputs": [],
   "source": [
    "parameters = initialize_parameters(n_x,n_h,n_y)\n",
    "(A2 ,cache) = forward_propagation(xt_train , parameters)"
   ]
  },
  {
   "cell_type": "code",
   "execution_count": 18,
   "metadata": {},
   "outputs": [],
   "source": [
    "def compute_cost(A2, Y ,parameters):\n",
    "    m =Y.shape[1]\n",
    "    cost= -np.sum(np.log(A2) * Y , axis =1 , keepdims = True)\n",
    "    cost = cost/m\n",
    "    loss = np.sum(cost , axis =0 ,keepdims =True)\n",
    "    return loss"
   ]
  },
  {
   "cell_type": "code",
   "execution_count": 19,
   "metadata": {},
   "outputs": [
    {
     "name": "stdout",
     "output_type": "stream",
     "text": [
      "[[4.78750634]]\n"
     ]
    }
   ],
   "source": [
    "cost = compute_cost(A2 , labels ,parameters)\n",
    "print(cost)"
   ]
  },
  {
   "cell_type": "code",
   "execution_count": 21,
   "metadata": {},
   "outputs": [],
   "source": [
    "def backward_propogation(parameters ,cache,X ,Y):\n",
    "    m =Y.shape[1]\n",
    "    W1 = parameters[\"W1\"]\n",
    "    W2 = parameters[\"W2\"]\n",
    "    \n",
    "    A1 = cache[\"A1\"]\n",
    "    A2 = cache[\"A2\"]\n",
    "    \n",
    "    dZ2 = A2 - Y\n",
    "    dW2 = 1/m * np.dot(dZ2 ,A1.T)\n",
    "    db2 = 1/m *np.sum(dZ2 ,axis =1 ,keepdims =True)\n",
    "    dZ1 = np.dot(W2.T,dZ2) * sigmoid(A1) * sigmoid(1.0 - A1)\n",
    "    dW1 = 1/m * np.dot(dZ1 , X.T)\n",
    "    db1 = 1/m * np.sum(dZ1 , axis =1 , keepdims = True)\n",
    "    \n",
    "    grads = {\"dW2\" : dW2,\n",
    "            \"dW1\" : dW1,\n",
    "            \"db1\" : db1,\n",
    "            \"db2\" : db2}\n",
    "    return grads"
   ]
  },
  {
   "cell_type": "code",
   "execution_count": 24,
   "metadata": {},
   "outputs": [],
   "source": [
    " grads = backward_propogation(parameters ,cache ,xt_train , labels)"
   ]
  },
  {
   "cell_type": "code",
   "execution_count": 25,
   "metadata": {},
   "outputs": [],
   "source": [
    "def update_parameters(parameters ,grads ,lr):\n",
    "    W1 =parameters[\"W1\"]\n",
    "    W2 = parameters[\"W2\"]\n",
    "    b1 =parameters[\"b1\"]\n",
    "    b2 = parameters[\"b2\"]\n",
    "    \n",
    "    dW1 = grads[\"dW1\"]\n",
    "    dW2 = grads[\"dW2\"]\n",
    "    db1 = grads[\"db1\"]\n",
    "    db2 = grads[\"db2\"]  \n",
    "    \n",
    "    W1 = W1  - lr * dW1\n",
    "    b1 = b1 -  lr * db1\n",
    "    W2 = W2 -  lr * dW2\n",
    "    b2 = b2 -  lr * db2\n",
    "    \n",
    "    parameters = {\"W1\" :W1,\n",
    "                 \"b1\" :b1 ,\n",
    "                 \"W2\" : W2,\n",
    "                 \"b2\" :b2}\n",
    "    return parameters"
   ]
  },
  {
   "cell_type": "code",
   "execution_count": 26,
   "metadata": {},
   "outputs": [
    {
     "data": {
      "text/plain": [
       "{'W1': array([[-0.00523842, -0.00456253, -0.00683036, -0.0035154 ],\n",
       "        [ 0.00622374, -0.00685998, -0.01431154,  0.00592225],\n",
       "        [ 0.01234592, -0.0044723 ,  0.01012342,  0.00653393]]),\n",
       " 'b1': array([[-4.31094497e-05],\n",
       "        [ 4.56475711e-05],\n",
       "        [ 3.95151856e-04]]),\n",
       " 'W2': array([[ 0.00903866,  0.01945227,  0.02694348],\n",
       "        [-0.00323827,  0.01188699,  0.01167121],\n",
       "        [ 0.03438428,  0.01984013,  0.04115609]]),\n",
       " 'b2': array([[0.03166667],\n",
       "        [0.03      ],\n",
       "        [0.03583333]])}"
      ]
     },
     "execution_count": 26,
     "metadata": {},
     "output_type": "execute_result"
    }
   ],
   "source": [
    "update_parameters(parameters , grads ,0.1)"
   ]
  },
  {
   "cell_type": "code",
   "execution_count": 62,
   "metadata": {},
   "outputs": [],
   "source": [
    "def nn_model(X,Y ,num_iter ,print_cost = False):\n",
    "    #np.random.seed(3)\n",
    "    n_x ,n_h,n_y = layer_size(X ,Y)\n",
    "    \n",
    "    parameters = initialize_parameters(n_x, n_h, n_y)\n",
    "    W1 = parameters[\"W1\"]\n",
    "    b1 = parameters[\"b1\"]\n",
    "    W2 = parameters[\"W2\"]\n",
    "    b2 = parameters[\"b2\"]\n",
    "    \n",
    "    total_cost = []\n",
    "    for i in range(0 ,num_iter):\n",
    "        A2 ,cache = forward_propagation(X,parameters)\n",
    "        \n",
    "        cost = compute_cost(A2 ,Y ,parameters)\n",
    "        total_cost.append(cost[0])\n",
    "        \n",
    "        grads = backward_propogation(parameters ,cache ,X, Y)\n",
    "        \n",
    "        parameters = update_parameters(parameters ,grads  ,.001)\n",
    "        \n",
    "        \n",
    "        if print_cost and i % 50 == 0:\n",
    "            print (\"Cost after iteration %i: %f\" %(i, cost))\n",
    "    \n",
    "    \n",
    "    return parameters,total_cost"
   ]
  },
  {
   "cell_type": "code",
   "execution_count": 63,
   "metadata": {},
   "outputs": [
    {
     "name": "stdout",
     "output_type": "stream",
     "text": [
      "Cost after iteration 0: 4.787492\n",
      "Cost after iteration 50: 4.787491\n",
      "Cost after iteration 100: 4.787487\n",
      "Cost after iteration 150: 4.787476\n",
      "Cost after iteration 200: 4.787453\n",
      "Cost after iteration 250: 4.787415\n",
      "Cost after iteration 300: 4.787356\n",
      "Cost after iteration 350: 4.787271\n",
      "Cost after iteration 400: 4.787155\n",
      "Cost after iteration 450: 4.787006\n",
      "Cost after iteration 500: 4.786823\n",
      "Cost after iteration 550: 4.786609\n",
      "Cost after iteration 600: 4.786371\n",
      "Cost after iteration 650: 4.786121\n",
      "Cost after iteration 700: 4.785873\n",
      "Cost after iteration 750: 4.785644\n",
      "Cost after iteration 800: 4.785446\n",
      "Cost after iteration 850: 4.785289\n",
      "Cost after iteration 900: 4.785177\n",
      "Cost after iteration 950: 4.785108\n"
     ]
    }
   ],
   "source": [
    "parameters ,total_cost = nn_model(xt_train, labels, num_iter=1000, print_cost=True)\n",
    "#print(parameters)\n"
   ]
  },
  {
   "cell_type": "code",
   "execution_count": 64,
   "metadata": {},
   "outputs": [
    {
     "data": {
      "text/plain": [
       "<function matplotlib.pyplot.show(*args, **kw)>"
      ]
     },
     "execution_count": 64,
     "metadata": {},
     "output_type": "execute_result"
    },
    {
     "data": {
      "image/png": "[encoded data removed]",
      "text/plain": [
       "<Figure size 432x288 with 1 Axes>"
      ]
     },
     "metadata": {
      "needs_background": "light"
     },
     "output_type": "display_data"
    }
   ],
   "source": [
    "plt.plot(total_cost)\n",
    "plt.show"
   ]
  },
  {
   "cell_type": "code",
   "execution_count": 65,
   "metadata": {},
   "outputs": [],
   "source": [
    "def predict(parameters ,X):\n",
    "    A2 ,cache = forward_propagation(X ,parameters)\n",
    "    \n",
    "    prediction = np.round(A2)\n",
    "    return prediction"
   ]
  },
  {
   "cell_type": "code",
   "execution_count": 66,
   "metadata": {},
   "outputs": [],
   "source": [
    "def one_hot_encoding(C ,y):     #C is no_of_classes in the dataset\n",
    "    label = (np.eye(C)[y.reshape(-1)]).T\n",
    "    return label\n",
    "\n",
    "#label_test = one_hot_encoding(3, yt_test)\n",
    "#label_test.shape"
   ]
  },
  {
   "cell_type": "code",
   "execution_count": 68,
   "metadata": {},
   "outputs": [],
   "source": [
    "y_pre = []\n",
    "yh_pred = predict(parameters , xt_test)\n",
    "for i in range (yh_pred.shape[1]):\n",
    "    j =0;\n",
    "    j =np.argmax(yh_pred)\n",
    "    y_pre.append(j)\n",
    "y_pre = np.array(y_pre).reshape(30,1)    \n",
    "    \n",
    "\n",
    "\n",
    "\n"
   ]
  },
  {
   "cell_type": "code",
   "execution_count": 69,
   "metadata": {},
   "outputs": [],
   "source": [
    "actual = yt_test.astype('float')\n",
    "predicted = y_pre.astype('float')\n"
   ]
  },
  {
   "cell_type": "code",
   "execution_count": 70,
   "metadata": {},
   "outputs": [
    {
     "name": "stdout",
     "output_type": "stream",
     "text": [
      "Confusion Matrix:\n",
      "[[11  0  0]\n",
      " [13  0  0]\n",
      " [ 6  0  0]]\n",
      "Predicted Accuarcy :\n",
      "0.36666666666666664\n",
      "Precison score :\n",
      "[0.36666667 0.         0.        ]\n",
      "Recall score :\n",
      "[1. 0. 0.]\n",
      "F1 score :\n",
      "[0.53658537 0.         0.        ]\n",
      "Accuracy Report :               precision    recall  f1-score   support\n",
      "\n",
      "         0.0       0.37      1.00      0.54        11\n",
      "         1.0       0.00      0.00      0.00        13\n",
      "         2.0       0.00      0.00      0.00         6\n",
      "\n",
      "    accuracy                           0.37        30\n",
      "   macro avg       0.12      0.33      0.18        30\n",
      "weighted avg       0.13      0.37      0.20        30\n",
      "\n"
     ]
    },
    {
     "name": "stderr",
     "output_type": "stream",
     "text": [
      "C:\\Users\\Milimd\\Anaconda3\\anaconda7\\lib\\site-packages\\sklearn\\metrics\\classification.py:1437: UndefinedMetricWarning: Precision is ill-defined and being set to 0.0 in labels with no predicted samples.\n",
      "  'precision', 'predicted', average, warn_for)\n",
      "C:\\Users\\Milimd\\Anaconda3\\anaconda7\\lib\\site-packages\\sklearn\\metrics\\classification.py:1437: UndefinedMetricWarning: F-score is ill-defined and being set to 0.0 in labels with no predicted samples.\n",
      "  'precision', 'predicted', average, warn_for)\n",
      "C:\\Users\\Milimd\\Anaconda3\\anaconda7\\lib\\site-packages\\sklearn\\metrics\\classification.py:1437: UndefinedMetricWarning: Precision and F-score are ill-defined and being set to 0.0 in labels with no predicted samples.\n",
      "  'precision', 'predicted', average, warn_for)\n"
     ]
    }
   ],
   "source": [
    "results = confusion_matrix(actual, predicted) \n",
    "accu_predicted=accuracy_score(actual, predicted)\n",
    "precison=precision_score(actual, predicted, average=None)\n",
    "recall=recall_score(actual, predicted,average=None)\n",
    "F1=f1_score(actual, predicted,average=None)\n",
    "report=classification_report(actual, predicted)\n",
    "\n",
    "print(\"Confusion Matrix:\")\n",
    "print(results)\n",
    "print(\"Predicted Accuarcy :\")\n",
    "print(accu_predicted)\n",
    "print(\"Precison score :\")\n",
    "print(precison)\n",
    "print(\"Recall score :\")\n",
    "print(recall)\n",
    "print(\"F1 score :\")\n",
    "print(F1)\n",
    "print(\"Accuracy Report :\",report) "
   ]
  },
  {
   "cell_type": "code",
   "execution_count": null,
   "metadata": {},
   "outputs": [],
   "source": []
  },
  {
   "cell_type": "markdown",
   "metadata": {},
   "source": [
    "                            \"\"\"SOLUTION 4\"\"\""
   ]
  },
  {
   "cell_type": "code",
   "execution_count": 35,
   "metadata": {},
   "outputs": [],
   "source": []
  },
  {
   "cell_type": "code",
   "execution_count": 1,
   "metadata": {},
   "outputs": [],
   "source": [
    "import numpy as np\n",
    "import matplotlib.pyplot as plt\n",
    "from sklearn.datasets import load_boston\n",
    "import pandas as pd\n",
    "boston_dataset = load_boston()\n",
    "boston = pd.DataFrame(boston_dataset.data, columns=boston_dataset.feature_names)\n",
    "X = boston[['RM','LSTAT','PTRATIO']]\n",
    "y = boston_dataset['target']\n",
    "y = y.reshape(y.shape[0] ,1)\n",
    "X = X.to_numpy()"
   ]
  },
  {
   "cell_type": "code",
   "execution_count": 2,
   "metadata": {},
   "outputs": [],
   "source": [
    "from sklearn.model_selection import train_test_split\n",
    "x_train, x_test, y_train, y_test = train_test_split(X, y, test_size=0.2, random_state=1)\n"
   ]
  },
  {
   "cell_type": "code",
   "execution_count": 3,
   "metadata": {},
   "outputs": [
    {
     "name": "stdout",
     "output_type": "stream",
     "text": [
      "(3, 404) (1, 404)\n"
     ]
    }
   ],
   "source": [
    "xt_train = x_train.T/100\n",
    "xt_test = x_test.T/100\n",
    "yt_train = y_train.T/100\n",
    "yt_test = y_test.T/100\n",
    "print(xt_train.shape ,yt_train.shape)"
   ]
  },
  {
   "cell_type": "code",
   "execution_count": 4,
   "metadata": {},
   "outputs": [],
   "source": [
    "def forward_prop(X ,W ,b):\n",
    "    z =np.dot(W.T,X) +b\n",
    "    return z"
   ]
  },
  {
   "cell_type": "code",
   "execution_count": 5,
   "metadata": {},
   "outputs": [],
   "source": [
    "def mean_square_error( y_pred, y_true):\n",
    "        return ((y_pred - y_true) ** 2)\n",
    "def huber_loss(y_true,y_hat):\n",
    "    delta = 1.\n",
    "    return np.where(np.abs(y_true-y_hat) < delta,.5*(y_true-y_hat)**2 , delta*(np.abs(y_true-y_hat)-0.5*delta))\n",
    "def square_epsilon_hinge_loss(y_true,y_hat):\n",
    "    epsilon = 0.1\n",
    "    loss = 0.5*(np.maximum(((y_hat-y_true)**2-epsilon**2),0.0))\n",
    "    return loss\n",
    "def mae_loss(y_true,y_pred):\n",
    "    return np.abs(y_true-y_pred)"
   ]
  },
  {
   "cell_type": "code",
   "execution_count": 6,
   "metadata": {},
   "outputs": [],
   "source": [
    "total_loss = []\n",
    "lr =.01\n",
    "epochs=500\n"
   ]
  },
  {
   "cell_type": "code",
   "execution_count": 7,
   "metadata": {},
   "outputs": [
    {
     "data": {
      "text/plain": [
       "(1, 404)"
      ]
     },
     "execution_count": 7,
     "metadata": {},
     "output_type": "execute_result"
    }
   ],
   "source": [
    "w = np.zeros((3,1))\n",
    "b = 1\n",
    "z =forward_prop(xt_train,w,b)\n",
    "z.shape\n"
   ]
  },
  {
   "cell_type": "code",
   "execution_count": 8,
   "metadata": {},
   "outputs": [],
   "source": [
    "for i in range(epochs):\n",
    "    yh = forward_prop(xt_train ,w ,b)\n",
    "    #print(yh.shape)\n",
    "    delta = yh - yt_train\n",
    "    #print(delta.shape)\n",
    "    loss = np.sum(mean_square_error(yt_train,yh))/(2 * 404)\n",
    "    dw = (np.dot(delta ,xt_train.T).T)/404\n",
    "    db =  np.sum(delta)/404\n",
    "    w = w - lr * dw\n",
    "    b = b - lr * db\n",
    "    #print(loss)\n",
    "    total_loss.append(loss)\n",
    "\n",
    "    "
   ]
  },
  {
   "cell_type": "code",
   "execution_count": 9,
   "metadata": {},
   "outputs": [
    {
     "data": {
      "image/png": "[encoded data removed]",
      "text/plain": [
       "<Figure size 432x288 with 1 Axes>"
      ]
     },
     "metadata": {
      "needs_background": "light"
     },
     "output_type": "display_data"
    }
   ],
   "source": [
    "#mse loss\n",
    "plt.plot(total_loss)\n",
    "plt.show()"
   ]
  },
  {
   "cell_type": "code",
   "execution_count": 10,
   "metadata": {},
   "outputs": [],
   "source": [
    "#HUBER LOSS\n",
    "w = np.zeros((3,1))\n",
    "b = 1\n",
    "for i in range(epochs):\n",
    "    yh = forward_prop(xt_train ,w ,b)\n",
    "    #print(yh.shape)\n",
    "    delta = yh - yt_train\n",
    "    #print(delta.shape)\n",
    "    loss = np.sum(huber_loss(yt_train,yh))/(2 * 404)\n",
    "    dw = (np.dot(delta ,xt_train.T).T)/404\n",
    "    db =  np.sum(delta)/404\n",
    "    w = w - lr * dw\n",
    "    b = b - lr * db\n",
    "    #print(loss)\n",
    "    total_loss.append(loss)\n"
   ]
  },
  {
   "cell_type": "code",
   "execution_count": 11,
   "metadata": {},
   "outputs": [
    {
     "data": {
      "image/png": "[encoded data removed]",
      "text/plain": [
       "<Figure size 432x288 with 1 Axes>"
      ]
     },
     "metadata": {
      "needs_background": "light"
     },
     "output_type": "display_data"
    }
   ],
   "source": [
    "#huber loss\n",
    "plt.plot(total_loss)\n",
    "plt.show()"
   ]
  },
  {
   "cell_type": "code",
   "execution_count": 12,
   "metadata": {},
   "outputs": [
    {
     "data": {
      "image/png": "[encoded data removed]",
      "text/plain": [
       "<Figure size 432x288 with 1 Axes>"
      ]
     },
     "metadata": {
      "needs_background": "light"
     },
     "output_type": "display_data"
    }
   ],
   "source": [
    "#square epsilon hinge loss\n",
    "w = np.zeros((3,1))\n",
    "b = 1\n",
    "for i in range(epochs):\n",
    "    yh = forward_prop(xt_train ,w ,b)\n",
    "    #print(yh.shape)\n",
    "    delta = yh - yt_train\n",
    "    #print(delta.shape)\n",
    "    loss = np.sum(square_epsilon_hinge_loss(yt_train,yh))/(2 * 404)\n",
    "    dw = (np.dot(delta ,xt_train.T).T)/404\n",
    "    db =  np.sum(delta)/404\n",
    "    w = w - lr * dw\n",
    "    b = b - lr * db\n",
    "    #print(loss)\n",
    "    total_loss.append(loss)\n",
    "plt.plot(total_loss)\n",
    "plt.show()"
   ]
  },
  {
   "cell_type": "code",
   "execution_count": 13,
   "metadata": {},
   "outputs": [
    {
     "data": {
      "image/png": "[encoded data removed]",
      "text/plain": [
       "<Figure size 432x288 with 1 Axes>"
      ]
     },
     "metadata": {
      "needs_background": "light"
     },
     "output_type": "display_data"
    }
   ],
   "source": [
    "w = np.zeros((3,1))\n",
    "b = 1\n",
    "for i in range(epochs):\n",
    "    yh = forward_prop(xt_train ,w ,b)\n",
    "    #print(yh.shape)\n",
    "    delta = yh - yt_train\n",
    "    #print(delta.shape)\n",
    "    loss = np.sum(mae_loss(yt_train,yh))/(2 * 404)\n",
    "    dw = (np.dot(delta ,xt_train.T).T)/404\n",
    "    db =  np.sum(delta)/404\n",
    "    w = w - lr * dw\n",
    "    b = b - lr * db\n",
    "    #print(loss)\n",
    "    total_loss.append(loss)\n",
    "plt.plot(total_loss)\n",
    "plt.show()"
   ]
  },
  {
   "cell_type": "code",
   "execution_count": null,
   "metadata": {},
   "outputs": [],
   "source": [
    "                                            #solution 5"
   ]
  },
  {
   "cell_type": "code",
   "execution_count": 45,
   "metadata": {},
   "outputs": [],
   "source": [
    "import matplotlib.pyplot as plt"
   ]
  },
  {
   "cell_type": "code",
   "execution_count": 24,
   "metadata": {},
   "outputs": [],
   "source": [
    "from sklearn import datasets\n",
    "import numpy as np\n",
    "data = datasets.load_breast_cancer()\n",
    "X = data['data']\n",
    "y = data['target']\n",
    "from sklearn.model_selection import train_test_split\n",
    "X_train, X_test, y_train, y_test = train_test_split(X, y, test_size=0.2, random_state=1)"
   ]
  },
  {
   "cell_type": "code",
   "execution_count": 25,
   "metadata": {},
   "outputs": [
    {
     "name": "stdout",
     "output_type": "stream",
     "text": [
      "(30, 455)\n",
      "(30, 114)\n",
      "(1, 455)\n",
      "(1, 114)\n"
     ]
    }
   ],
   "source": [
    "xt_train = X_train.T/100\n",
    "xt_test = X_test.T/100\n",
    "y_train = (y_train.T).reshape(1,y_train.shape[0])\n",
    "y_test = (y_test.T).reshape(1,y_test.shape[0])\n",
    "print(xt_train.shape)\n",
    "print(xt_test.shape)\n",
    "print(y_train.shape)\n",
    "print(y_test.shape)"
   ]
  },
  {
   "cell_type": "code",
   "execution_count": 26,
   "metadata": {},
   "outputs": [],
   "source": [
    "def layer_size(X,Y):\n",
    "    n_x = X.shape[0]\n",
    "    n_y = Y.shape[0]\n",
    "    n_h = 10\n",
    "    return (n_x,n_h,n_y)"
   ]
  },
  {
   "cell_type": "code",
   "execution_count": 27,
   "metadata": {},
   "outputs": [
    {
     "name": "stdout",
     "output_type": "stream",
     "text": [
      "30 10 1\n"
     ]
    }
   ],
   "source": [
    "(n_x,n_h,n_y)=layer_size(xt_train,y_train)\n",
    "print(n_x,n_h,n_y)"
   ]
  },
  {
   "cell_type": "code",
   "execution_count": 28,
   "metadata": {},
   "outputs": [],
   "source": [
    "def ini_parameter(n_x ,n_h ,n_y):\n",
    "    np.random.seed(2)\n",
    "    W1 = np.random.randn(n_h ,n_x) * .01\n",
    "    b1 =np.zeros((n_h,1))\n",
    "    W2 = np.random.randn(n_y,n_h)* .01\n",
    "    b2 = np.zeros((n_y ,1))\n",
    "    \n",
    "   \n",
    "    \n",
    "    parameters = {\"W1\": W1,\n",
    "                  \"b1\": b1,\n",
    "                  \"W2\": W2,\n",
    "                  \"b2\": b2}\n",
    "    return parameters"
   ]
  },
  {
   "cell_type": "code",
   "execution_count": 29,
   "metadata": {},
   "outputs": [
    {
     "data": {
      "text/plain": [
       "{'W1': array([[-4.16757847e-03, -5.62668272e-04, -2.13619610e-02,\n",
       "          1.64027081e-02, -1.79343559e-02, -8.41747366e-03,\n",
       "          5.02881417e-03, -1.24528809e-02, -1.05795222e-02,\n",
       "         -9.09007615e-03,  5.51454045e-03,  2.29220801e-02,\n",
       "          4.15393930e-04, -1.11792545e-02,  5.39058321e-03,\n",
       "         -5.96159700e-03, -1.91304965e-04,  1.17500122e-02,\n",
       "         -7.47870949e-03,  9.02525097e-05, -8.78107893e-03,\n",
       "         -1.56434170e-03,  2.56570452e-03, -9.88779049e-03,\n",
       "         -3.38821966e-03, -2.36184031e-03, -6.37655012e-03,\n",
       "         -1.18761229e-02, -1.42121723e-02, -1.53495196e-03],\n",
       "        [-2.69056960e-03,  2.23136679e-02, -2.43476758e-02,\n",
       "          1.12726505e-03,  3.70444537e-03,  1.35963386e-02,\n",
       "          5.01857207e-03, -8.44213704e-03,  9.76147160e-08,\n",
       "          5.42352572e-03, -3.13508197e-03,  7.71011738e-03,\n",
       "         -1.86809065e-02,  1.73118467e-02,  1.46767801e-02,\n",
       "         -3.35677339e-03,  6.11340780e-03,  4.79705919e-04,\n",
       "         -8.29135289e-03,  8.77102184e-04,  1.00036589e-02,\n",
       "         -3.81092518e-03, -3.75669423e-03, -7.44707629e-04,\n",
       "          4.33496330e-03,  1.27837923e-02, -6.34679305e-03,\n",
       "          5.08396243e-03,  2.16116006e-03, -1.85861239e-02],\n",
       "        [-4.19316482e-03, -1.32328898e-03, -3.95702397e-04,\n",
       "          3.26003433e-03, -2.04032305e-02,  4.62555231e-04,\n",
       "         -6.77675577e-03, -1.43943903e-02,  5.24296430e-03,\n",
       "          7.35279576e-03, -6.53250268e-03,  8.42456282e-03,\n",
       "         -3.81516482e-03,  6.64890091e-04, -1.09873895e-02,\n",
       "          1.58448706e-02, -2.65944946e-02, -9.14526229e-04,\n",
       "          6.95119605e-03, -2.03346655e-02, -1.89469265e-03,\n",
       "         -7.72186654e-04,  8.24703005e-03,  1.24821292e-02,\n",
       "         -4.03892269e-03, -1.38451867e-02,  1.36723542e-02,\n",
       "          1.21788563e-02, -4.62005348e-03,  3.50888494e-03],\n",
       "        [ 3.81866234e-03,  5.66275441e-03,  2.04207979e-03,\n",
       "          1.40669624e-02, -1.73795950e-02,  1.04082395e-02,\n",
       "          3.80471970e-03, -2.17135269e-03,  1.17353150e-02,\n",
       "         -2.34360319e-02,  1.16152149e-02,  3.86078048e-03,\n",
       "         -1.13313327e-02,  4.33092555e-03, -3.04086439e-03,\n",
       "          2.58529487e-02,  1.83533272e-02,  4.40689872e-03,\n",
       "         -7.19253841e-03, -5.83414595e-03, -3.25049628e-03,\n",
       "         -5.60234506e-03, -9.02246068e-03, -5.90972275e-03,\n",
       "         -2.76179492e-03, -5.16883894e-03, -6.98589950e-03,\n",
       "         -9.28891925e-03,  2.55043824e-02, -1.47317325e-02],\n",
       "        [-1.02141473e-02,  4.32395701e-03, -3.23580070e-03,\n",
       "          4.23824708e-03,  7.99179995e-03,  1.26261366e-02,\n",
       "          7.51964849e-03, -9.93760983e-03,  1.10914328e-02,\n",
       "         -1.76491773e-02, -1.14421297e-03, -4.98174194e-03,\n",
       "         -1.06079904e-02,  5.91666521e-03, -1.83256574e-03,\n",
       "          1.01985473e-02, -1.48246548e-02,  8.46311892e-03,\n",
       "          4.97940148e-03,  1.26504175e-03, -1.41881055e-02,\n",
       "         -2.51774118e-03, -1.54667461e-02, -2.08265194e-02,\n",
       "          3.27974540e-02,  9.70861320e-03,  1.79259285e-02,\n",
       "         -4.29013319e-03,  6.96197980e-03,  6.97416272e-03],\n",
       "        [ 6.01515814e-03,  3.65949071e-05, -2.28247558e-03,\n",
       "         -2.06961226e-02,  6.10144086e-03,  4.23496900e-03,\n",
       "          1.11788673e-02, -2.74242089e-03,  1.74181219e-02,\n",
       "         -4.47500876e-03, -1.25542722e-02,  9.38163671e-03,\n",
       "         -4.68346260e-03, -1.25472031e-02,  1.24823646e-03,\n",
       "          7.56502143e-03,  2.41439629e-03,  4.97425649e-03,\n",
       "          4.10869262e-02,  8.21120877e-03,  1.53176032e-02,\n",
       "         -1.98584577e-02,  3.65053516e-03,  7.74082033e-03,\n",
       "         -3.64479092e-03, -8.75979478e-03,  3.96520159e-03,\n",
       "         -3.14617436e-03, -5.93755583e-03,  1.14950057e-02],\n",
       "        [ 1.33556617e-02,  3.02629336e-03, -4.54227855e-03,\n",
       "          5.14370717e-03,  8.29458431e-03,  6.30621967e-03,\n",
       "         -1.45336435e-02, -3.38017777e-03,  3.59133332e-03,\n",
       "          6.22220414e-03,  9.60781945e-03,  7.58370347e-03,\n",
       "         -1.13431848e-02, -7.07420888e-03, -1.22142917e-02,\n",
       "          1.80447664e-02,  1.80409807e-03,  5.53164274e-03,\n",
       "          1.03302907e-02, -3.29002435e-03, -1.15100294e-02,\n",
       "         -4.26522471e-03, -1.48147191e-03,  1.50143692e-02,\n",
       "          8.69598198e-03, -1.08709057e-02,  6.64221413e-03,\n",
       "          7.34884668e-03, -1.06136574e-02, -1.08516824e-03],\n",
       "        [-1.85040397e-02,  3.30488064e-03, -3.15693210e-03,\n",
       "         -1.35000210e-02, -6.98170998e-03,  2.39951198e-03,\n",
       "         -5.52949440e-03,  2.99526813e-03,  5.52663696e-03,\n",
       "         -8.40443012e-03, -3.12270670e-03,  2.14467809e-02,\n",
       "          1.21105582e-03, -8.46828752e-03,  6.04624490e-04,\n",
       "         -1.33858888e-02,  1.13274608e-02,  3.70304843e-03,\n",
       "          1.08580640e-02,  9.02179395e-03,  3.90296450e-03,\n",
       "          9.75509412e-03,  1.91573647e-03, -6.62209012e-03,\n",
       "         -1.02351498e-02, -4.48174823e-03, -2.50545813e-02,\n",
       "          1.82599446e-02, -1.71406741e-02, -7.66395640e-04],\n",
       "        [-1.31756727e-02, -2.02559359e-02, -8.22453750e-04,\n",
       "         -3.04666585e-03, -1.59724130e-03,  5.48946560e-03,\n",
       "         -6.18375485e-03,  3.78794466e-03,  5.13251444e-03,\n",
       "         -3.34844125e-03, -2.83519516e-03,  5.38424263e-03,\n",
       "          5.72509465e-04,  1.59088487e-03, -2.37440268e-02,\n",
       "          5.85199353e-04,  3.76545911e-03, -1.35479764e-03,\n",
       "          3.35908395e-03,  1.90437591e-02,  8.53644334e-04,\n",
       "          6.65334278e-03, -8.49995503e-03, -8.52341797e-03,\n",
       "         -4.79985112e-03, -1.01964910e-02, -7.60113841e-05,\n",
       "         -9.33830661e-03, -1.74996844e-03, -1.43714343e-02],\n",
       "        [-1.65220029e-02, -6.75661789e-03, -1.06706712e-02,\n",
       "         -6.52931145e-03, -6.12094750e-03, -3.51262461e-03,\n",
       "          1.04547799e-02,  1.36901602e-02,  7.25353259e-03,\n",
       "         -3.59474459e-03,  1.49695179e-02, -1.53111111e-02,\n",
       "         -2.02336394e-02,  2.67972576e-03, -2.20644541e-05,\n",
       "         -1.39291883e-03,  3.25654693e-04, -1.64056022e-02,\n",
       "         -1.15669917e-02,  1.23403468e-02,  1.02818490e-02,\n",
       "         -7.21879726e-03,  1.93315697e-02, -1.07079633e-02,\n",
       "         -5.71381608e-03,  2.92432067e-03, -1.19499989e-02,\n",
       "         -4.87930544e-03, -1.73071165e-03, -3.95346401e-03]]),\n",
       " 'b1': array([[0.],\n",
       "        [0.],\n",
       "        [0.],\n",
       "        [0.],\n",
       "        [0.],\n",
       "        [0.],\n",
       "        [0.],\n",
       "        [0.],\n",
       "        [0.],\n",
       "        [0.]]),\n",
       " 'W2': array([[ 0.00870841,  0.00592807, -0.01099297, -0.00681531,  0.00180067,\n",
       "         -0.00066931, -0.0078775 ,  0.00424754,  0.00819885, -0.00631119]]),\n",
       " 'b2': array([[0.]])}"
      ]
     },
     "execution_count": 29,
     "metadata": {},
     "output_type": "execute_result"
    }
   ],
   "source": [
    "ini_parameter(n_x,n_h,n_y)"
   ]
  },
  {
   "cell_type": "code",
   "execution_count": 30,
   "metadata": {},
   "outputs": [],
   "source": [
    "def sigmoid(x):\n",
    "    return 1/(1+np.exp(-x))\n",
    "\n"
   ]
  },
  {
   "cell_type": "code",
   "execution_count": 34,
   "metadata": {},
   "outputs": [],
   "source": [
    "def forward_propagation(X , parameters):\n",
    "    \n",
    "    W1 = parameters[\"W1\"]\n",
    "    b1 = parameters[\"b1\"]\n",
    "    W2 = parameters[\"W2\"]\n",
    "    b2 = parameters[\"b2\"]\n",
    "    \n",
    "    Z1 = np.dot(W1,X) +b1\n",
    "    \n",
    "    A1 =np.tanh(Z1)\n",
    "   \n",
    "    Z2 = np.dot(W2,A1) + b2\n",
    "   \n",
    "    A2 =sigmoid(Z2)\n",
    "    \n",
    "    \n",
    "    cache = {\"Z1\":Z1,\n",
    "            \"A1\" : A1,\n",
    "             \"Z2\" : Z2,\n",
    "            \"A2\" : A2}\n",
    "    \n",
    "    return A2,cache"
   ]
  },
  {
   "cell_type": "code",
   "execution_count": 31,
   "metadata": {},
   "outputs": [],
   "source": [
    "def compute_cost(A2 ,Y , parameters):\n",
    "    m = Y.shape[1]\n",
    "    logprobs = np.multiply(np.log(A2), Y) + np.multiply((1 - Y), np.log(1 - A2))\n",
    "    cost = - np.sum(logprobs) /m\n",
    "    cost = float(np.squeeze(cost))\n",
    "    return cost\n"
   ]
  },
  {
   "cell_type": "code",
   "execution_count": 32,
   "metadata": {},
   "outputs": [],
   "source": [
    "def backward_propogation(parameters,cache,X,Y):\n",
    "    W1=parameters[\"W1\"]\n",
    "    b1=parameters[\"b1\"]\n",
    "    W2=parameters[\"W2\"]\n",
    "    b2=parameters[\"b2\"]\n",
    "    \n",
    "    A1= cache[\"A1\"]\n",
    "    Z1 =cache[\"Z1\"]\n",
    "    A2 =cache[\"A2\"]\n",
    "    Z2 =cache[\"Z2\"]\n",
    "    \n",
    "    m =X.shape[1]\n",
    "    dZ2 = A2 -Y\n",
    "    dW2= 1/m * np.dot(dZ2,A1.T)\n",
    "    db2 = 1/m * np.sum(dZ2 ,axis=1,keepdims =True)\n",
    "    dZ1 = np.dot(W2.T,dZ2) * (1-np.power(A1,2))\n",
    "    dW1 = 1/m * np.dot(dZ1 ,X.T)\n",
    "    db1= 1/m * np.sum(dZ1 ,axis =1 ,keepdims = True)\n",
    "    \n",
    "    grads = {\"dW2\":dW2,\n",
    "            \"db2\":db2,\n",
    "            \"dW1\" : dW1,\n",
    "            \"db1\": db1}\n",
    "    \n",
    "    return grads"
   ]
  },
  {
   "cell_type": "code",
   "execution_count": 33,
   "metadata": {},
   "outputs": [],
   "source": [
    "def update_parameters(parameters ,grads ,lr):\n",
    "    W1 = parameters[\"W1\"]\n",
    "    b1 = parameters[\"b1\"]\n",
    "    W2 = parameters[\"W2\"]\n",
    "    b2 = parameters[\"b2\"]\n",
    "    \n",
    "    dW1 = grads[\"dW1\"]\n",
    "    db1 = grads[\"db1\"]\n",
    "    dW2 = grads[\"dW2\"]\n",
    "    db2 = grads[\"db2\"]\n",
    "    \n",
    "    W1 = W1 - lr * dW1\n",
    "    b1 = b1 -lr *db1\n",
    "    W2 = W2 - lr * dW2\n",
    "    b2 = b2 - lr * db2\n",
    "    \n",
    "    parameters={\"W1\" : W1,\n",
    "               \"b1\" : b1,\n",
    "               \"W2\" : W2,\n",
    "               \"b2\" : b2}\n",
    "    return parameters"
   ]
  },
  {
   "cell_type": "code",
   "execution_count": 52,
   "metadata": {},
   "outputs": [],
   "source": [
    "def nn_model(X,Y,num_iter ,print_cost =False):\n",
    "    np.random.seed(3)\n",
    "    (n_x,n_h,n_y) = layer_size(X,Y)\n",
    "    parameters =ini_parameter(n_x, n_h, n_y)\n",
    "    W1 = parameters[\"W1\"]\n",
    "    b1 = parameters[\"b1\"]\n",
    "    W2 = parameters[\"W2\"]\n",
    "    b2 = parameters[\"b2\"]\n",
    "    total_cost = []\n",
    "    \n",
    "    for i in range(0,num_iter):\n",
    "        A2, cache = forward_propagation(X, parameters)\n",
    "        cost = compute_cost(A2, Y, parameters)\n",
    "        total_cost.append(cost)\n",
    "        grads = backward_propogation(parameters, cache, X, Y)\n",
    "        parameters = update_parameters(parameters, grads ,0.01)\n",
    "        if print_cost and i % 1000 == 0:\n",
    "            print (\"Cost after iteration %i: %f\" %(i, cost))\n",
    "    \n",
    "\n",
    "    return parameters,total_cost"
   ]
  },
  {
   "cell_type": "code",
   "execution_count": null,
   "metadata": {},
   "outputs": [],
   "source": []
  },
  {
   "cell_type": "code",
   "execution_count": 53,
   "metadata": {},
   "outputs": [
    {
     "name": "stdout",
     "output_type": "stream",
     "text": [
      "Cost after iteration 0: 0.692782\n",
      "Cost after iteration 1000: 0.382343\n",
      "Cost after iteration 2000: 0.210437\n",
      "Cost after iteration 3000: 0.181416\n",
      "Cost after iteration 4000: 0.172781\n",
      "Cost after iteration 5000: 0.168932\n",
      "Cost after iteration 6000: 0.166592\n",
      "Cost after iteration 7000: 0.164812\n",
      "Cost after iteration 8000: 0.163252\n",
      "Cost after iteration 9000: 0.161769\n"
     ]
    }
   ],
   "source": [
    "parameters ,total_cost = nn_model(xt_train, y_train ,num_iter=10000, print_cost=True)"
   ]
  },
  {
   "cell_type": "code",
   "execution_count": 54,
   "metadata": {},
   "outputs": [
    {
     "data": {
      "image/png": "[encoded data removed]",
      "text/plain": [
       "<Figure size 432x288 with 1 Axes>"
      ]
     },
     "metadata": {
      "needs_background": "light"
     },
     "output_type": "display_data"
    }
   ],
   "source": [
    "plt.plot(total_cost)\n",
    "plt.show()"
   ]
  },
  {
   "cell_type": "code",
   "execution_count": 55,
   "metadata": {},
   "outputs": [],
   "source": [
    "def predict(parameters ,X):\n",
    "    A2 ,cache = forward_propagation(X ,parameters)\n",
    "    \n",
    "    prediction = np.round(A2)\n",
    "    return prediction"
   ]
  },
  {
   "cell_type": "code",
   "execution_count": 58,
   "metadata": {},
   "outputs": [
    {
     "name": "stdout",
     "output_type": "stream",
     "text": [
      "(1, 114)\n",
      "(1, 114)\n"
     ]
    }
   ],
   "source": [
    "yh_pred = predict(parameters,xt_test)\n",
    "print(y_test.shape)\n",
    "print(yh_pred.shape)\n",
    "actual=y_test[0]\n",
    "\n",
    "predicted = yh_pred[0]"
   ]
  },
  {
   "cell_type": "code",
   "execution_count": 60,
   "metadata": {},
   "outputs": [],
   "source": [
    "from sklearn.metrics import confusion_matrix \n",
    "from sklearn.metrics import accuracy_score \n",
    "from sklearn.metrics import f1_score\n",
    "from sklearn.metrics import precision_score\n",
    "from sklearn.metrics import recall_score\n",
    "from sklearn.metrics import classification_report "
   ]
  },
  {
   "cell_type": "code",
   "execution_count": 61,
   "metadata": {},
   "outputs": [
    {
     "name": "stdout",
     "output_type": "stream",
     "text": [
      "Confusion Matrix:\n",
      "[[37  5]\n",
      " [ 2 70]]\n",
      "Predicted Accuarcy :\n",
      "0.9385964912280702\n",
      "Precison score :\n",
      "[0.94871795 0.93333333]\n",
      "Recall score :\n",
      "[0.88095238 0.97222222]\n",
      "F1 score :\n",
      "[0.91358025 0.95238095]\n",
      "Accuracy Report :               precision    recall  f1-score   support\n",
      "\n",
      "           0       0.95      0.88      0.91        42\n",
      "           1       0.93      0.97      0.95        72\n",
      "\n",
      "    accuracy                           0.94       114\n",
      "   macro avg       0.94      0.93      0.93       114\n",
      "weighted avg       0.94      0.94      0.94       114\n",
      "\n"
     ]
    }
   ],
   "source": [
    "results = confusion_matrix(actual, predicted) \n",
    "accu_predicted=accuracy_score(actual, predicted)\n",
    "precison=precision_score(actual, predicted, average=None)\n",
    "recall=recall_score(actual, predicted,average=None)\n",
    "F1=f1_score(actual, predicted,average=None)\n",
    "report=classification_report(actual, predicted)\n",
    "\n",
    "print(\"Confusion Matrix:\")\n",
    "print(results)\n",
    "print(\"Predicted Accuarcy :\")\n",
    "print(accu_predicted)\n",
    "print(\"Precison score :\")\n",
    "print(precison)\n",
    "print(\"Recall score :\")\n",
    "print(recall)\n",
    "print(\"F1 score :\")\n",
    "print(F1)\n",
    "print(\"Accuracy Report :\",report)"
   ]
  },
  {
   "cell_type": "code",
   "execution_count": 63,
   "metadata": {},
   "outputs": [],
   "source": [
    "def tseversky_loss( y_enc, output):\n",
    "        beta = 0.5\n",
    "        num = output*y_enc\n",
    "        denom = num+beta*(1-y_enc)*output+(1-beta)*y_enc*(1-output)\n",
    "        cost = num/denom\n",
    "        return cost"
   ]
  },
  {
   "cell_type": "code",
   "execution_count": 66,
   "metadata": {},
   "outputs": [],
   "source": [
    "def nn_model(X,Y,num_iter ,print_cost =False):\n",
    "    np.random.seed(3)\n",
    "    (n_x,n_h,n_y) = layer_size(X,Y)\n",
    "    parameters =ini_parameter(n_x, n_h, n_y)\n",
    "    W1 = parameters[\"W1\"]\n",
    "    b1 = parameters[\"b1\"]\n",
    "    W2 = parameters[\"W2\"]\n",
    "    b2 = parameters[\"b2\"]\n",
    "    total_cost = []\n",
    "    \n",
    "    for i in range(0,num_iter):\n",
    "        A2, cache = forward_propagation(X, parameters)\n",
    "        cost = tseversky_loss(A2, Y)\n",
    "        total_cost.append(cost)\n",
    "        grads = backward_propogation(parameters, cache, X, Y)\n",
    "        parameters = update_parameters(parameters, grads ,0.01)\n",
    "        \n",
    "    \n",
    "\n",
    "    return parameters,total_cost"
   ]
  },
  {
   "cell_type": "code",
   "execution_count": 67,
   "metadata": {},
   "outputs": [],
   "source": [
    "parameters ,total_cost = nn_model(xt_train, y_train ,num_iter=10000, print_cost=True)"
   ]
  },
  {
   "cell_type": "code",
   "execution_count": 70,
   "metadata": {},
   "outputs": [],
   "source": [
    "def predict(parameters ,X):\n",
    "    A2 ,cache = forward_propagation(X ,parameters)\n",
    "    \n",
    "    prediction = np.round(A2)\n",
    "    return prediction"
   ]
  },
  {
   "cell_type": "code",
   "execution_count": 71,
   "metadata": {},
   "outputs": [
    {
     "name": "stdout",
     "output_type": "stream",
     "text": [
      "(1, 114)\n",
      "(1, 114)\n"
     ]
    }
   ],
   "source": [
    "yh_pred = predict(parameters,xt_test)\n",
    "print(y_test.shape)\n",
    "print(yh_pred.shape)\n",
    "actual=y_test[0]\n",
    "\n",
    "predicted = yh_pred[0]"
   ]
  },
  {
   "cell_type": "code",
   "execution_count": 72,
   "metadata": {},
   "outputs": [
    {
     "name": "stdout",
     "output_type": "stream",
     "text": [
      "Confusion Matrix:\n",
      "[[37  5]\n",
      " [ 2 70]]\n",
      "Predicted Accuarcy :\n",
      "0.9385964912280702\n",
      "Precison score :\n",
      "[0.94871795 0.93333333]\n",
      "Recall score :\n",
      "[0.88095238 0.97222222]\n",
      "F1 score :\n",
      "[0.91358025 0.95238095]\n",
      "Accuracy Report :               precision    recall  f1-score   support\n",
      "\n",
      "           0       0.95      0.88      0.91        42\n",
      "           1       0.93      0.97      0.95        72\n",
      "\n",
      "    accuracy                           0.94       114\n",
      "   macro avg       0.94      0.93      0.93       114\n",
      "weighted avg       0.94      0.94      0.94       114\n",
      "\n"
     ]
    }
   ],
   "source": [
    "results = confusion_matrix(actual, predicted) \n",
    "accu_predicted=accuracy_score(actual, predicted)\n",
    "precison=precision_score(actual, predicted, average=None)\n",
    "recall=recall_score(actual, predicted,average=None)\n",
    "F1=f1_score(actual, predicted,average=None)\n",
    "report=classification_report(actual, predicted)\n",
    "\n",
    "print(\"Confusion Matrix:\")\n",
    "print(results)\n",
    "print(\"Predicted Accuarcy :\")\n",
    "print(accu_predicted)\n",
    "print(\"Precison score :\")\n",
    "print(precison)\n",
    "print(\"Recall score :\")\n",
    "print(recall)\n",
    "print(\"F1 score :\")\n",
    "print(F1)\n",
    "print(\"Accuracy Report :\",report)"
   ]
  },
  {
   "cell_type": "code",
   "execution_count": null,
   "metadata": {},
   "outputs": [],
   "source": [
    "                                            #solution 6"
   ]
  },
  {
   "cell_type": "code",
   "execution_count": 1,
   "metadata": {},
   "outputs": [],
   "source": [
    "import numpy as np\n",
    "import pandas as pd\n",
    "import matplotlib.pyplot as plt\n",
    "from sklearn import datasets\n",
    "from scipy.special import expit\n",
    "import sys\n",
    "import tensorflow as tf\n",
    "from sklearn.model_selection import train_test_split\n",
    "%matplotlib inline"
   ]
  },
  {
   "cell_type": "code",
   "execution_count": 2,
   "metadata": {},
   "outputs": [],
   "source": [
    "from sklearn.metrics import confusion_matrix \n",
    "from sklearn.metrics import accuracy_score \n",
    "from sklearn.metrics import f1_score\n",
    "from sklearn.metrics import precision_score\n",
    "from sklearn.metrics import recall_score\n",
    "from sklearn.metrics import classification_report "
   ]
  },
  {
   "cell_type": "code",
   "execution_count": 13,
   "metadata": {},
   "outputs": [],
   "source": [
    "iris = datasets.load_iris()\n",
    "\n",
    "X = iris['data']\n",
    "y = iris['target']\n",
    "\n",
    "x = X[0:100,0:2]\n",
    "Y = y[0:100]"
   ]
  },
  {
   "cell_type": "code",
   "execution_count": 16,
   "metadata": {},
   "outputs": [],
   "source": [
    "X_train, X_test, y_train, y_test = train_test_split(x, Y, test_size=0.1, random_state=1)"
   ]
  },
  {
   "cell_type": "code",
   "execution_count": 20,
   "metadata": {},
   "outputs": [
    {
     "name": "stdout",
     "output_type": "stream",
     "text": [
      "(2, 90)\n",
      "(2, 10)\n",
      "(1, 90)\n",
      "(1, 10)\n"
     ]
    }
   ],
   "source": [
    "xt_train = X_train.T/100\n",
    "xt_test = X_test.T/100\n",
    "y_train = (y_train.T).reshape(1,y_train.shape[0])\n",
    "y_test = (y_test.T).reshape(1,y_test.shape[0])\n",
    "print(xt_train.shape)\n",
    "print(xt_test.shape)\n",
    "print(y_train.shape)\n",
    "print(y_test.shape)"
   ]
  },
  {
   "cell_type": "code",
   "execution_count": 44,
   "metadata": {},
   "outputs": [],
   "source": [
    "def layer_size(X,Y):\n",
    "    n_x = X.shape[0]\n",
    "    n_y = Y.shape[0]\n",
    "    n_h = 2\n",
    "    return (n_x,n_h,n_y)"
   ]
  },
  {
   "cell_type": "code",
   "execution_count": 23,
   "metadata": {},
   "outputs": [
    {
     "name": "stdout",
     "output_type": "stream",
     "text": [
      "2 3 1\n"
     ]
    }
   ],
   "source": [
    "(n_x,n_h,n_y)=layer_size(xt_train,y_train)\n",
    "print(n_x,n_h,n_y)"
   ]
  },
  {
   "cell_type": "code",
   "execution_count": 30,
   "metadata": {},
   "outputs": [],
   "source": [
    "def ini_parameters(n_x ,n_h ,n_y):\n",
    "    np.random.seed(2)\n",
    "    W1 = np.random.randn(n_h ,n_x) * .01\n",
    "    b1 =np.zeros((n_h,1))\n",
    "    W2 = np.random.randn(n_y,n_h)* .01\n",
    "    b2 = np.zeros((n_y ,1))\n",
    "    \n",
    "   \n",
    "    \n",
    "    parameters = {\"W1\": W1,\n",
    "                  \"b1\": b1,\n",
    "                  \"W2\": W2,\n",
    "                  \"b2\": b2}\n",
    "    return parameters"
   ]
  },
  {
   "cell_type": "code",
   "execution_count": 25,
   "metadata": {},
   "outputs": [
    {
     "data": {
      "text/plain": [
       "{'W1': array([[-0.00416758, -0.00056267],\n",
       "        [-0.02136196,  0.01640271],\n",
       "        [-0.01793436, -0.00841747]]), 'b1': array([[0.],\n",
       "        [0.],\n",
       "        [0.]]), 'W2': array([[ 0.00502881, -0.01245288, -0.01057952]]), 'b2': array([[0.]])}"
      ]
     },
     "execution_count": 25,
     "metadata": {},
     "output_type": "execute_result"
    }
   ],
   "source": [
    "ini_parameters(n_x,n_h,n_y)"
   ]
  },
  {
   "cell_type": "code",
   "execution_count": 26,
   "metadata": {},
   "outputs": [],
   "source": [
    "def sigmoid(x):\n",
    "    return 1/(1+np.exp(-x))\n"
   ]
  },
  {
   "cell_type": "code",
   "execution_count": 27,
   "metadata": {},
   "outputs": [],
   "source": [
    "def softmax(a):                                \n",
    "    z = np.exp(a)\n",
    "    s = np.sum(z , axis =1 ,keepdims = True)\n",
    "    return z/s"
   ]
  },
  {
   "cell_type": "code",
   "execution_count": 32,
   "metadata": {},
   "outputs": [],
   "source": [
    "def forward_propagation(X ,parameters):\n",
    "    W1= parameters[\"W1\"]\n",
    "    W2 = parameters[\"W2\"]\n",
    "    b1 = parameters[\"b1\"]\n",
    "    b2 = parameters[\"b2\"]\n",
    "    \n",
    "    Z1=np.dot(W1 ,X) +b1\n",
    "    A1 = sigmoid(Z1)\n",
    "    Z2 = np.dot(W2 ,A1) +b2\n",
    "    A2 = softmax(Z2)\n",
    "   # print(A2.shape)\n",
    "    \n",
    "    assert(A2.shape == (1, X.shape[1]))\n",
    "    \n",
    "    cache = {\"Z1\" : Z1,\n",
    "            \"Z2\" : Z2,\n",
    "            \"A1\" : A1,\n",
    "            \"A2\" : A2}\n",
    "    return A2 ,cache"
   ]
  },
  {
   "cell_type": "code",
   "execution_count": 34,
   "metadata": {},
   "outputs": [
    {
     "name": "stdout",
     "output_type": "stream",
     "text": [
      "(1, 90)\n"
     ]
    }
   ],
   "source": [
    "parameters = ini_parameters(n_x,n_h,n_y)\n",
    "(A2 ,cache) = forward_propagation(xt_train , parameters)\n",
    "print(A2.shape)"
   ]
  },
  {
   "cell_type": "code",
   "execution_count": 47,
   "metadata": {},
   "outputs": [],
   "source": [
    "def compute_cost(A2, Y ,parameters):\n",
    "    m =Y.shape[1]\n",
    "    cost= -np.sum(np.log(A2) * Y , axis =1 , keepdims = True)\n",
    "    cost = cost/m\n",
    "    loss = np.sum(cost , axis =0 ,keepdims =True)\n",
    "    return loss"
   ]
  },
  {
   "cell_type": "code",
   "execution_count": 37,
   "metadata": {},
   "outputs": [],
   "source": [
    "def backward_propogation(parameters ,cache,X ,Y):\n",
    "    m =Y.shape[1]\n",
    "    W1 = parameters[\"W1\"]\n",
    "    W2 = parameters[\"W2\"]\n",
    "    \n",
    "    A1 = cache[\"A1\"]\n",
    "    A2 = cache[\"A2\"]\n",
    "    \n",
    "    dZ2 = A2 - Y\n",
    "    dW2 = 1/m * np.dot(dZ2 ,A1.T)\n",
    "    db2 = 1/m *np.sum(dZ2 ,axis =1 ,keepdims =True)\n",
    "    dZ1 = np.dot(W2.T,dZ2) * sigmoid(A1) * sigmoid(1 - A1)\n",
    "    dW1 = 1/m * np.dot(dZ1 , X.T)\n",
    "    db1 = 1/m * np.sum(dZ1 , axis =1 , keepdims = True)\n",
    "    \n",
    "    grads = {\"dW2\" : dW2,\n",
    "            \"dW1\" : dW1,\n",
    "            \"db1\" : db1,\n",
    "            \"db2\" : db2}\n",
    "    return grads"
   ]
  },
  {
   "cell_type": "code",
   "execution_count": 38,
   "metadata": {},
   "outputs": [],
   "source": [
    "def update_parameters(parameters ,grads ,lr):\n",
    "    W1 =parameters[\"W1\"]\n",
    "    W2 = parameters[\"W2\"]\n",
    "    b1 =parameters[\"b1\"]\n",
    "    b2 = parameters[\"b2\"]\n",
    "    \n",
    "    dW1 = grads[\"dW1\"]\n",
    "    dW2 = grads[\"dW2\"]\n",
    "    db1 = grads[\"db1\"]\n",
    "    db2 = grads[\"db2\"]  \n",
    "    \n",
    "    W1 = W1  - lr * dW1\n",
    "    b1 = b1 -  lr * db1\n",
    "    W2 = W2 -  lr * dW2\n",
    "    b2 = b2 -  lr * db2\n",
    "    \n",
    "    parameters = {\"W1\" :W1,\n",
    "                 \"b1\" :b1 ,\n",
    "                 \"W2\" : W2,\n",
    "                 \"b2\" :b2}\n",
    "    return parameters"
   ]
  },
  {
   "cell_type": "code",
   "execution_count": 67,
   "metadata": {},
   "outputs": [],
   "source": [
    "def nn_model(X,Y ,num_iter ,print_cost = False):\n",
    "    #np.random.seed(3)\n",
    "    n_x ,n_h,n_y = layer_size(X ,Y)\n",
    "    \n",
    "    parameters = ini_parameters(n_x, n_h, n_y)\n",
    "    W1 = parameters[\"W1\"]\n",
    "    b1 = parameters[\"b1\"]\n",
    "    W2 = parameters[\"W2\"]\n",
    "    b2 = parameters[\"b2\"]\n",
    "    \n",
    "    total_cost = []\n",
    "    for i in range(0 ,num_iter):\n",
    "        A2 ,cache = forward_propagation(X,parameters)\n",
    "        \n",
    "        cost = compute_cost(A2 ,Y ,parameters)\n",
    "        total_cost.append(cost[0])\n",
    "        \n",
    "        grads = backward_propogation(parameters ,cache ,X, Y)\n",
    "        \n",
    "        parameters = update_parameters(parameters ,grads  ,.01)\n",
    "        \n",
    "        \n",
    "        if print_cost and i % 50 == 0:\n",
    "            print (\"Cost after iteration %i: %f\" %(i, cost))\n",
    "   \n",
    "    \n",
    "    return parameters,total_cost"
   ]
  },
  {
   "cell_type": "code",
   "execution_count": 68,
   "metadata": {},
   "outputs": [
    {
     "name": "stdout",
     "output_type": "stream",
     "text": [
      "Cost after iteration 0: 2.149909\n",
      "Cost after iteration 50: 2.149911\n",
      "Cost after iteration 100: 2.149914\n",
      "Cost after iteration 150: 2.149916\n",
      "Cost after iteration 200: 2.149917\n",
      "Cost after iteration 250: 2.149918\n",
      "Cost after iteration 300: 2.149918\n",
      "Cost after iteration 350: 2.149916\n",
      "Cost after iteration 400: 2.149913\n",
      "Cost after iteration 450: 2.149908\n",
      "Cost after iteration 500: 2.149901\n",
      "Cost after iteration 550: 2.149893\n",
      "Cost after iteration 600: 2.149882\n",
      "Cost after iteration 650: 2.149870\n",
      "Cost after iteration 700: 2.149857\n",
      "Cost after iteration 750: 2.149844\n",
      "Cost after iteration 800: 2.149832\n",
      "Cost after iteration 850: 2.149821\n",
      "Cost after iteration 900: 2.149814\n",
      "Cost after iteration 950: 2.149810\n"
     ]
    }
   ],
   "source": [
    "parameters,total_cost  = nn_model(xt_train, y_train, num_iter=1000, print_cost=True)\n",
    "\n"
   ]
  },
  {
   "cell_type": "code",
   "execution_count": 69,
   "metadata": {},
   "outputs": [
    {
     "data": {
      "text/plain": [
       "<function matplotlib.pyplot.show(*args, **kw)>"
      ]
     },
     "execution_count": 69,
     "metadata": {},
     "output_type": "execute_result"
    },
    {
     "data": {
      "image/png": "[encoded data removed]",
      "text/plain": [
       "<Figure size 432x288 with 1 Axes>"
      ]
     },
     "metadata": {
      "needs_background": "light"
     },
     "output_type": "display_data"
    }
   ],
   "source": [
    "plt.plot(total_cost)\n",
    "plt.show"
   ]
  },
  {
   "cell_type": "code",
   "execution_count": 70,
   "metadata": {},
   "outputs": [],
   "source": [
    "def predict(parameters ,X):\n",
    "    A2 ,cache = forward_propagation(X ,parameters)\n",
    "    \n",
    "    prediction = np.round(A2)\n",
    "    return prediction"
   ]
  },
  {
   "cell_type": "code",
   "execution_count": 71,
   "metadata": {},
   "outputs": [
    {
     "name": "stdout",
     "output_type": "stream",
     "text": [
      "(1, 10)\n",
      "(1, 10)\n"
     ]
    }
   ],
   "source": [
    "yh_pred = predict(parameters,xt_test)\n",
    "print(y_test.shape)\n",
    "print(yh_pred.shape)\n",
    "actual=y_test[0]\n",
    "\n",
    "predicted = yh_pred[0]"
   ]
  },
  {
   "cell_type": "code",
   "execution_count": 72,
   "metadata": {},
   "outputs": [
    {
     "name": "stdout",
     "output_type": "stream",
     "text": [
      "Confusion Matrix:\n",
      "[[3 0]\n",
      " [7 0]]\n",
      "Predicted Accuarcy :\n",
      "0.3\n",
      "Precison score :\n",
      "[0.3 0. ]\n",
      "Recall score :\n",
      "[1. 0.]\n",
      "F1 score :\n",
      "[0.46153846 0.        ]\n",
      "Accuracy Report :               precision    recall  f1-score   support\n",
      "\n",
      "           0       0.30      1.00      0.46         3\n",
      "           1       0.00      0.00      0.00         7\n",
      "\n",
      "    accuracy                           0.30        10\n",
      "   macro avg       0.15      0.50      0.23        10\n",
      "weighted avg       0.09      0.30      0.14        10\n",
      "\n"
     ]
    },
    {
     "name": "stderr",
     "output_type": "stream",
     "text": [
      "C:\\Users\\Milimd\\Anaconda3\\anaconda7\\lib\\site-packages\\sklearn\\metrics\\classification.py:1437: UndefinedMetricWarning: Precision is ill-defined and being set to 0.0 in labels with no predicted samples.\n",
      "  'precision', 'predicted', average, warn_for)\n",
      "C:\\Users\\Milimd\\Anaconda3\\anaconda7\\lib\\site-packages\\sklearn\\metrics\\classification.py:1437: UndefinedMetricWarning: F-score is ill-defined and being set to 0.0 in labels with no predicted samples.\n",
      "  'precision', 'predicted', average, warn_for)\n",
      "C:\\Users\\Milimd\\Anaconda3\\anaconda7\\lib\\site-packages\\sklearn\\metrics\\classification.py:1437: UndefinedMetricWarning: Precision and F-score are ill-defined and being set to 0.0 in labels with no predicted samples.\n",
      "  'precision', 'predicted', average, warn_for)\n"
     ]
    }
   ],
   "source": [
    "results = confusion_matrix(actual, predicted) \n",
    "accu_predicted=accuracy_score(actual, predicted)\n",
    "precison=precision_score(actual, predicted, average=None)\n",
    "recall=recall_score(actual, predicted,average=None)\n",
    "F1=f1_score(actual, predicted,average=None)\n",
    "report=classification_report(actual, predicted)\n",
    "\n",
    "print(\"Confusion Matrix:\")\n",
    "print(results)\n",
    "print(\"Predicted Accuarcy :\")\n",
    "print(accu_predicted)\n",
    "print(\"Precison score :\")\n",
    "print(precison)\n",
    "print(\"Recall score :\")\n",
    "print(recall)\n",
    "print(\"F1 score :\")\n",
    "print(F1)\n",
    "print(\"Accuracy Report :\",report)"
   ]
  }
 ],
 "metadata": {
  "kernelspec": {
   "display_name": "Python 3",
   "language": "python",
   "name": "python3"
  },
  "language_info": {
   "codemirror_mode": {
    "name": "ipython",
    "version": 3
   },
   "file_extension": ".py",
   "mimetype": "text/x-python",
   "name": "python",
   "nbconvert_exporter": "python",
   "pygments_lexer": "ipython3",
   "version": "3.7.4"
  }
 },
 "nbformat": 4,
 "nbformat_minor": 2
}
