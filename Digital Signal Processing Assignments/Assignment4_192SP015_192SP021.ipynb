{
 "cells": [
  {
   "cell_type": "markdown",
   "metadata": {},
   "source": [
    "## National Institute of Technology Karnatata, Surathkal\n",
    "## Department of Electronics and Communication Engg."
   ]
  },
  {
   "cell_type": "markdown",
   "metadata": {},
   "source": [
    "## DL Lab : Assignment 4"
   ]
  },
  {
   "cell_type": "markdown",
   "metadata": {},
   "source": [
    "Q.1(a).Write python from scratch for 2D Linear convolution between input=np.array([[1,2,3],[4,5,6],[7,8,9]])and filter= np.array([[1,2,1],[0,0,0],[-1,-2,-1]])\n",
    "<o>\n",
    "(b).Write python from scratch for 2d Linear convolution between input image(lena.jpg) and  kernel = np.array([[1, 2, 1],[2, 4, 2],[1, 2, 1]]))/16 \n",
    "(c) Compute number of multiplications and parameters required for 2D Linear Convolution in part (a) and part(b)\n",
    "(d) Apply Max pooling and Average pooling on convoved image in part (b)"
   ]
  },
  {
   "cell_type": "code",
   "execution_count": 4,
   "metadata": {},
   "outputs": [
    {
     "name": "stdout",
     "output_type": "stream",
     "text": [
      "CPU times: user 0 ns, sys: 0 ns, total: 0 ns\n",
      "Wall time: 460 µs\n"
     ]
    }
   ],
   "source": [
    "%%time\n",
    "import cv2\n",
    "import numpy as np\n",
    "ip = np.array([[1,2,3],[4,5,6],[7,8,9]])\n",
    "ip_chg = np.pad(ip,(1,1),'constant', constant_values=0)\n",
    "filt = np.array([[1,2,1],[0,0,0],[-1,-2,-1]])\n",
    "op = np.zeros(np.shape(ip)[0]*np.shape(ip)[0])\n",
    "p=0\n",
    "for i in range(np.shape(ip)[0]):\n",
    "    for j in range(np.shape(ip)[1]):\n",
    "        mat = ip_chg[i:np.shape(filt)[0]+i,j:np.shape(filt)[1]+j]\n",
    "        op[p]=np.sum(mat*filt)\n",
    "        p=p+1\n",
    "op = op.reshape(np.shape(ip)[0],np.shape(ip)[0])    "
   ]
  },
  {
   "cell_type": "code",
   "execution_count": 1,
   "metadata": {},
   "outputs": [
    {
     "name": "stdout",
     "output_type": "stream",
     "text": [
      "[[-13. -20. -17.]\n",
      " [-18. -24. -18.]\n",
      " [ 13.  20.  17.]]\n"
     ]
    }
   ],
   "source": [
    "import cv2\n",
    "import numpy as np\n",
    "input=np.array([[1,2,3],[4,5,6],[7,8,9]])\n",
    "filter= np.array([[1,2,1],[0,0,0],[-1,-2,-1]])\n",
    "o=np.zeros((3,3))\n",
    "input=np.pad(input,(1,1),mode=\"constant\",constant_values=0)\n",
    "for i in range(3):\n",
    "    for j in range(3):\n",
    "        for k in range(3):\n",
    "            for l in range(3):\n",
    "                o[i][j]+=input[i+k][j+l]*filter[k][l]\n",
    "print(o)\n"
   ]
  },
  {
   "cell_type": "code",
   "execution_count": 49,
   "metadata": {},
   "outputs": [],
   "source": [
    "def lin_conv_2D(ip,filt,mult):\n",
    "    ip_chg = np.pad(ip,(1,1),'constant', constant_values=0)\n",
    "    op = np.zeros(np.shape(ip)[0]*np.shape(ip)[0])\n",
    "    p=0\n",
    "    for i in range(np.shape(ip)[0]):\n",
    "        for j in range(np.shape(ip)[1]):\n",
    "            mat = ip_chg[i:np.shape(filt)[0]+i,j:np.shape(filt)[1]+j]\n",
    "            op[p]=int(np.round(np.sum(mat*filt)))\n",
    "            mult = mult + mat.shape[0]*filt.shape[0]\n",
    "            p=p+1\n",
    "    op = op.reshape(np.shape(ip)[0],np.shape(ip)[0])\n",
    "    return op,mult"
   ]
  },
  {
   "cell_type": "code",
   "execution_count": 50,
   "metadata": {},
   "outputs": [],
   "source": [
    "import cv2\n",
    "import numpy as np\n",
    "img = cv2.imread('lena.jpg')\n",
    "img_r = img[:,:,0]\n",
    "img_b = img[:,:,1]\n",
    "img_g = img[:,:,2]\n",
    "\n",
    "mult = 0\n",
    "\n",
    "kernel = np.array([[1, 2, 1],[2, 4, 2],[1, 2, 1]])/16\n",
    "img_lin2d_r,mult1 = lin_conv_2D(img_r, kernel, mult)\n",
    "img_lin2d_g,mult2 = lin_conv_2D(img_g, kernel, mult)\n",
    "img_lin2d_b,mult3 = lin_conv_2D(img_b, kernel, mult)"
   ]
  },
  {
   "cell_type": "code",
   "execution_count": 52,
   "metadata": {},
   "outputs": [
    {
     "name": "stdout",
     "output_type": "stream",
     "text": [
      "Total no. of Multiplications= 7077888\n"
     ]
    }
   ],
   "source": [
    "img_conv = np.zeros((np.shape(img)[0]*np.shape(img)[1]*np.shape(img)[2]))\n",
    "img_conv = np.reshape(img_conv,(np.shape(img)[0],np.shape(img)[1],np.shape(img)[2]))\n",
    "img_conv[:,:,0]=img_lin2d_r\n",
    "img_conv[:,:,1]=img_lin2d_g\n",
    "img_conv[:,:,2]=img_lin2d_b\n",
    "\n",
    "print(\"Total no. of Multiplications=\",(mult1+mult2+mult3))"
   ]
  },
  {
   "cell_type": "code",
   "execution_count": 11,
   "metadata": {},
   "outputs": [],
   "source": [
    "cv2.imshow('Orignal_Image',img)\n",
    "cv2.waitKey(0)\n",
    "cv2.destroyAllWindows()\n",
    "cv2.imshow('Convolved_Image',img_conv)\n",
    "cv2.waitKey(0)\n",
    "cv2.destroyAllWindows()"
   ]
  },
  {
   "cell_type": "code",
   "execution_count": 14,
   "metadata": {},
   "outputs": [
    {
     "data": {
      "text/plain": [
       "array([[[ 66., 128.,  75.],\n",
       "        [ 88., 170., 100.],\n",
       "        [ 88., 170., 100.],\n",
       "        ...,\n",
       "        [ 94., 172., 106.],\n",
       "        [ 81., 158.,  93.],\n",
       "        [ 54., 112.,  64.]],\n",
       "\n",
       "       [[ 88., 170., 100.],\n",
       "        [117., 227., 134.],\n",
       "        [117., 227., 134.],\n",
       "        ...,\n",
       "        [130., 232., 145.],\n",
       "        [113., 214., 128.],\n",
       "        [ 77., 152.,  88.]],\n",
       "\n",
       "       [[ 88., 170., 100.],\n",
       "        [117., 227., 134.],\n",
       "        [117., 227., 134.],\n",
       "        ...,\n",
       "        [134., 233., 147.],\n",
       "        [118., 216., 131.],\n",
       "        [ 81., 154.,  91.]],\n",
       "\n",
       "       ...,\n",
       "\n",
       "       [[ 44.,  68.,  23.],\n",
       "        [ 59.,  91.,  31.],\n",
       "        [ 59.,  91.,  31.],\n",
       "        ...,\n",
       "        [ 71., 160.,  79.],\n",
       "        [ 72., 164.,  82.],\n",
       "        [ 54., 125.,  63.]],\n",
       "\n",
       "       [[ 44.,  68.,  23.],\n",
       "        [ 59.,  91.,  31.],\n",
       "        [ 59.,  91.,  31.],\n",
       "        ...,\n",
       "        [ 72., 163.,  82.],\n",
       "        [ 73., 168.,  86.],\n",
       "        [ 56., 127.,  66.]],\n",
       "\n",
       "       [[ 33.,  51.,  17.],\n",
       "        [ 44.,  68.,  23.],\n",
       "        [ 44.,  68.,  23.],\n",
       "        ...,\n",
       "        [ 54., 123.,  63.],\n",
       "        [ 56., 127.,  66.],\n",
       "        [ 42.,  97.,  51.]]])"
      ]
     },
     "execution_count": 14,
     "metadata": {},
     "output_type": "execute_result"
    }
   ],
   "source": [
    "img_conv"
   ]
  },
  {
   "cell_type": "code",
   "execution_count": 18,
   "metadata": {},
   "outputs": [],
   "source": [
    "def max_pool(ip):\n",
    "    filt = np.array([[1, 1, 1],[1, 1, 1],[1, 1, 1]])\n",
    "    rows = np.shape(ip)[0]-np.shape(filt)[0]+1\n",
    "    columns = np.shape(ip)[1]-np.shape(filt)[0]+1\n",
    "    op = np.zeros(rows*columns)\n",
    "    p=0\n",
    "    for i in range(rows):\n",
    "        for j in range(columns):\n",
    "            mat = ip[i:np.shape(filt)[0]+i,j:np.shape(filt)[0]+j]\n",
    "            op[p]=np.round(np.max(mat*filt))\n",
    "            p=p+1\n",
    "    op = np.reshape(op,(rows,columns))   \n",
    "    return op\n",
    "\n",
    "img_conv_r = max_pool(img_conv)\n",
    "img_conv_g = max_pool(img_conv)\n",
    "img_conv_b = max_pool(img_conv)\n",
    "img_max = np.zeros((np.shape(img_conv_r)[0]*np.shape(img_conv_r)[1]*np.shape(img)[2]))\n",
    "img_max = np.reshape(img_max,(np.shape(img_conv_r)[0],np.shape(img_conv_r)[1],np.shape(img)[2]))\n",
    "img_max[:,:,0]=img_conv_r\n",
    "img_max[:,:,1]=img_conv_g\n",
    "img_max[:,:,2]=img_conv_b"
   ]
  },
  {
   "cell_type": "code",
   "execution_count": 20,
   "metadata": {},
   "outputs": [],
   "source": [
    "def avg_pool(ip):\n",
    "    filt = np.array([[1, 1, 1],[1, 1, 1],[1, 1, 1]])\n",
    "    rows = np.shape(ip)[0]-np.shape(filt)[0]+1\n",
    "    columns = np.shape(ip)[1]-np.shape(filt)[0]+1\n",
    "    op = np.zeros(rows*columns)\n",
    "    p=0\n",
    "    for i in range(rows):\n",
    "        for j in range(columns):\n",
    "            mat = ip[i:np.shape(filt)[0]+i,j:np.shape(filt)[0]+j]\n",
    "            op[p]=np.round(np.max(mat*filt))\n",
    "            p=p+1\n",
    "    op = np.reshape(op,(rows,columns))   \n",
    "    return op\n",
    "\n",
    "img_conv_ravg = avg_pool(img_conv)\n",
    "img_conv_gavg = avg_pool(img_conv)\n",
    "img_conv_bavg = avg_pool(img_conv)\n",
    "img_avg = np.zeros((np.shape(img_conv_ravg)[0]*np.shape(img_conv_ravg)[1]*np.shape(img)[2]))\n",
    "img_avg = np.reshape(img_max,(np.shape(img_conv_ravg)[0],np.shape(img_conv_ravg)[1],np.shape(img)[2]))\n",
    "img_avg[:,:,0]=img_conv_ravg\n",
    "img_avg[:,:,1]=img_conv_gavg\n",
    "img_avg[:,:,2]=img_conv_bavg"
   ]
  },
  {
   "cell_type": "code",
   "execution_count": 21,
   "metadata": {},
   "outputs": [
    {
     "data": {
      "text/plain": [
       "array([[[227., 227., 227.],\n",
       "        [227., 227., 227.],\n",
       "        [227., 227., 227.],\n",
       "        ...,\n",
       "        [248., 248., 248.],\n",
       "        [245., 245., 245.],\n",
       "        [233., 233., 233.]],\n",
       "\n",
       "       [[227., 227., 227.],\n",
       "        [227., 227., 227.],\n",
       "        [227., 227., 227.],\n",
       "        ...,\n",
       "        [248., 248., 248.],\n",
       "        [245., 245., 245.],\n",
       "        [233., 233., 233.]],\n",
       "\n",
       "       [[227., 227., 227.],\n",
       "        [227., 227., 227.],\n",
       "        [227., 227., 227.],\n",
       "        ...,\n",
       "        [248., 248., 248.],\n",
       "        [245., 245., 245.],\n",
       "        [233., 233., 233.]],\n",
       "\n",
       "       ...,\n",
       "\n",
       "       [[ 91.,  91.,  91.],\n",
       "        [ 91.,  91.,  91.],\n",
       "        [ 91.,  91.,  91.],\n",
       "        ...,\n",
       "        [160., 160., 160.],\n",
       "        [164., 164., 164.],\n",
       "        [164., 164., 164.]],\n",
       "\n",
       "       [[ 91.,  91.,  91.],\n",
       "        [ 91.,  91.,  91.],\n",
       "        [ 91.,  91.,  91.],\n",
       "        ...,\n",
       "        [163., 163., 163.],\n",
       "        [168., 168., 168.],\n",
       "        [168., 168., 168.]],\n",
       "\n",
       "       [[ 91.,  91.,  91.],\n",
       "        [ 91.,  91.,  91.],\n",
       "        [ 91.,  91.,  91.],\n",
       "        ...,\n",
       "        [163., 163., 163.],\n",
       "        [168., 168., 168.],\n",
       "        [168., 168., 168.]]])"
      ]
     },
     "execution_count": 21,
     "metadata": {},
     "output_type": "execute_result"
    }
   ],
   "source": [
    "img_avg"
   ]
  },
  {
   "cell_type": "markdown",
   "metadata": {},
   "source": [
    "Q.2.(a)Write python from scratch for 2D Spatial Separbale convolution between input image(lena.jpg) and   Gausian filter \n",
    " = np.array([1,4,6,4,1],[4,16,24,16,4],[6,24,36,24,6],[4,16,24,16,4],[1,4,6,4,1])/256\n",
    " (b) Compute number of multiplications and parameters required for2D Spatial Separbale convolution"
   ]
  },
  {
   "cell_type": "code",
   "execution_count": 32,
   "metadata": {},
   "outputs": [],
   "source": [
    "def spatial_2d_separable(ip,filt,mult):\n",
    "    filt = np.array([[1, 1, 1],[1, 1, 1],[1, 1, 1]])\n",
    "    rows = np.shape(ip)[0]-np.shape(filt)[0]+1\n",
    "    columns = np.shape(ip)[1]-np.shape(filt)[0]+1\n",
    "    op = np.zeros(rows*columns)\n",
    "    p=0\n",
    "    for i in range(rows):\n",
    "        for j in range(columns):\n",
    "            mat = ip[i:np.shape(filt)[0]+i,j:np.shape(filt)[0]+j]\n",
    "            op[p]=np.round(np.max(mat*filt))\n",
    "            mult = mult + mat.shape[0]*filt.shape[0]\n",
    "            p=p+1\n",
    "    op = np.reshape(op,(rows,columns))   \n",
    "    return op,mult"
   ]
  },
  {
   "cell_type": "code",
   "execution_count": 41,
   "metadata": {},
   "outputs": [],
   "source": [
    "import cv2\n",
    "import numpy as np\n",
    "\n",
    "filt = np.array([[1,4,6,4,1],[4,16,24,16,4],[6,24,36,24,6],[4,16,24,16,4],[1,4,6,4,1]])\n",
    "min_arr = np.zeros(np.shape(filt)[0])\n",
    "for i in range(np.shape(filt)[0]):\n",
    "    min_arr[i] = np.abs(np.min(filt[:,i]))\n",
    "max_a = np.max(min_arr)\n",
    "pos_maxa = np.argmax(min_arr)\n",
    "A = filt[:,pos_maxa]\n",
    "post = A/max_a\n",
    "pre = min_arr\n",
    "post = post.reshape(post.shape[0],1)\n",
    "pre = pre.reshape(1,pre.shape[0])\n",
    "\n",
    "img = cv2.imread('lena.jpg')\n",
    "\n",
    "img_r = img[:,:,0]\n",
    "img_b = img[:,:,1]\n",
    "img_g = img[:,:,2]\n",
    "\n",
    "rimg_conv2_sep = spatial_2d_separable(img_r,pre)\n",
    "rimg_conv2_sep = spatial_2d_separable(rimg_conv2_sep,post)\n",
    "rimg_conv2_sep = rimg_conv2_sep\n",
    "\n",
    "gimg_conv2_sep = spatial_2d_separable(img_g,pre)\n",
    "gimg_conv2_sep = spatial_2d_separable(gimg_conv2_sep,post)\n",
    "gimg_conv2_sep = gimg_conv2_sep\n",
    "\n",
    "bimg_conv2_sep = spatial_2d_separable(img_b,pre)\n",
    "bimg_conv2_sep = spatial_2d_separable(bimg_conv2_sep,post)\n",
    "bimg_conv2_sep = bimg_conv2_sep\n",
    "\n",
    "img_2d_sep = np.zeros((np.shape(rimg_conv2_sep)[0]*np.shape(rimg_conv2_sep)[1]*np.shape(img)[2]))\n",
    "img_2d_sep = np.reshape(img_2d_sep,(np.shape(rimg_conv2_sep)[0],np.shape(rimg_conv2_sep)[1],np.shape(img)[2]))\n",
    "img_2d_sep[:,:,0]=rimg_conv2_sep\n",
    "img_2d_sep[:,:,1]=gimg_conv2_sep\n",
    "img_2d_sep[:,:,2]=bimg_conv2_sep"
   ]
  },
  {
   "cell_type": "code",
   "execution_count": 42,
   "metadata": {},
   "outputs": [
    {
     "data": {
      "text/plain": [
       "array([[[117., 227., 134.],\n",
       "        [117., 227., 134.],\n",
       "        [117., 227., 134.],\n",
       "        ...,\n",
       "        [152., 253., 163.],\n",
       "        [152., 253., 163.],\n",
       "        [152., 253., 163.]],\n",
       "\n",
       "       [[117., 227., 134.],\n",
       "        [117., 227., 134.],\n",
       "        [117., 227., 134.],\n",
       "        ...,\n",
       "        [152., 253., 163.],\n",
       "        [152., 253., 163.],\n",
       "        [152., 253., 163.]],\n",
       "\n",
       "       [[117., 227., 134.],\n",
       "        [117., 227., 134.],\n",
       "        [117., 227., 134.],\n",
       "        ...,\n",
       "        [152., 253., 163.],\n",
       "        [152., 253., 163.],\n",
       "        [152., 253., 163.]],\n",
       "\n",
       "       ...,\n",
       "\n",
       "       [[ 59.,  91.,  31.],\n",
       "        [ 59.,  91.,  31.],\n",
       "        [ 59.,  91.,  31.],\n",
       "        ...,\n",
       "        [ 71., 160.,  80.],\n",
       "        [ 72., 165.,  83.],\n",
       "        [ 73., 167.,  85.]],\n",
       "\n",
       "       [[ 59.,  91.,  31.],\n",
       "        [ 59.,  91.,  31.],\n",
       "        [ 59.,  91.,  31.],\n",
       "        ...,\n",
       "        [ 72., 163.,  83.],\n",
       "        [ 73., 169.,  87.],\n",
       "        [ 75., 171.,  89.]],\n",
       "\n",
       "       [[ 59.,  91.,  31.],\n",
       "        [ 59.,  91.,  31.],\n",
       "        [ 59.,  91.,  31.],\n",
       "        ...,\n",
       "        [ 73., 165.,  86.],\n",
       "        [ 75., 171.,  89.],\n",
       "        [ 75., 173.,  92.]]])"
      ]
     },
     "execution_count": 42,
     "metadata": {},
     "output_type": "execute_result"
    }
   ],
   "source": [
    "img_2d_sep"
   ]
  },
  {
   "cell_type": "markdown",
   "metadata": {},
   "source": [
    "Q.3.(a)Write python from scratch for 2D Depthwise Separbale convolution between input image(lena.jpg) and depthwise and pointwise  filters are as follows:\n",
    "<o>\n",
    "depthwise filter array = np.array([[[1, 2, 1], [2, 4, 2], [1, 2, 1]], \n",
    "                     [[1, 2, 1], [2, 4, 2], [1, 2, 1]], \n",
    "                     [[1, 2, 1], [2, 4, 2], [1, 2, 1]]])/16\n",
    "   <o>                  \n",
    "pointwise filter array= np.array([[1], [1], [1]])/512\n",
    "<o>\n",
    "(b)Compute number of multiplications and parameters required for 2D Depthwise Separbale convolutions"
   ]
  },
  {
   "cell_type": "code",
   "execution_count": 235,
   "metadata": {},
   "outputs": [],
   "source": [
    "#Depthwise Separable Convolution\n",
    "def conv_2d_depth(filt,ip):\n",
    "    rows = np.shape(ip)[0]-np.shape(filt)[0]+1\n",
    "    columns = np.shape(ip)[1]-np.shape(filt)[1]+1\n",
    "    op = np.zeros(rows*columns)\n",
    "    p=0\n",
    "    for i in range(rows):\n",
    "        for j in range(columns):\n",
    "            mat = ip[i:np.shape(filt)[0]+i,j:np.shape(filt)[1]+j]\n",
    "            op[p]=int(np.round(np.sum(mat*filt)))\n",
    "            p=p+1\n",
    "            mult=mult + mat.shape[0]*filt.shape[0]\n",
    "    op = np.reshape(op,(rows,columns))   \n",
    "    return op   "
   ]
  },
  {
   "cell_type": "code",
   "execution_count": 243,
   "metadata": {},
   "outputs": [],
   "source": [
    "import cv2\n",
    "import numpy as np\n",
    "filter_array = np.array([[[1, 2, 1], [2, 4, 2], [1, 2, 1]], [[1, 2, 1], [2, 4, 2], [1, 2, 1]], [[1, 2, 1], [2, 4, 2], [1, 2, 1]]])/16\n",
    "img = cv2.imread('lena.jpg')\n",
    "img_r = img[:,:,0]\n",
    "img_b = img[:,:,1]\n",
    "img_g = img[:,:,2]\n",
    "filt1 = filter_array[0,:,:]\n",
    "filt2 = filter_array[1,:,:]\n",
    "filt3 = filter_array[2,:,:]\n",
    "\n",
    "img_r_conv = conv_2d_depth(filt1,img_r)\n",
    "img_g_conv = conv_2d_depth(filt3,img_g)\n",
    "img_b_conv = conv_2d_depth(filt3,img_b)\n",
    "\n",
    "img_conv = np.zeros((np.shape(img_r_conv)[0]*np.shape(img_r_conv)[1]*np.shape(img)[2]))\n",
    "img_conv = np.reshape(img_conv,(np.shape(img_r_conv)[0],np.shape(img_r_conv)[1],np.shape(img)[2]))\n",
    "img_conv[:,:,0]=img_r_conv\n",
    "img_conv[:,:,1]=img_r_conv\n",
    "img_conv[:,:,2]=img_r_conv"
   ]
  },
  {
   "cell_type": "code",
   "execution_count": 265,
   "metadata": {},
   "outputs": [],
   "source": [
    "#Pointwise Separable Convolution\n",
    "def conv_2d_depth(filt,ip):\n",
    "    rows = np.shape(ip)[0]-np.shape(filt)[0]+1\n",
    "    columns = np.shape(ip)[1]-np.shape(filt)[0]+1\n",
    "    op = np.zeros(rows*columns)\n",
    "    p=0\n",
    "    for i in range(rows):\n",
    "        for j in range(columns):\n",
    "            mat = ip[i:np.shape(filt)[0]+i,j:np.shape(filt)[0]+j]\n",
    "            op[p]=np.round(np.sum(mat*filt))\n",
    "            p=p+1\n",
    "    op = np.reshape(op,(rows,columns))   \n",
    "    return op\n",
    "\n",
    "\n",
    "import cv2\n",
    "import numpy as np\n",
    "filter_array= np.array([[1], [1], [1]])/8\n",
    "img_r = img[:,:,0]\n",
    "img_b = img[:,:,1]\n",
    "img_g = img[:,:,2]\n",
    "filt1 = filter_array[0]\n",
    "filt2 = filter_array[1]\n",
    "filt3 = filter_array[2]\n",
    "\n",
    "img_r_conv = conv_2d_depth(filt1,img_r)\n",
    "img_g_conv = conv_2d_depth(filt2,img_g)\n",
    "img_b_conv = conv_2d_depth(filt3,img_b)\n",
    "\n",
    "img_conv = img_r_conv + img_g_conv + img_b_conv"
   ]
  },
  {
   "cell_type": "code",
   "execution_count": 266,
   "metadata": {},
   "outputs": [
    {
     "data": {
      "text/plain": [
       "array([[60., 60., 60., ..., 63., 54., 48.],\n",
       "       [60., 60., 60., ..., 63., 57., 51.],\n",
       "       [60., 60., 60., ..., 66., 58., 53.],\n",
       "       ...,\n",
       "       [22., 22., 22., ..., 39., 40., 41.],\n",
       "       [22., 22., 22., ..., 39., 41., 41.],\n",
       "       [22., 22., 22., ..., 41., 41., 43.]])"
      ]
     },
     "execution_count": 266,
     "metadata": {},
     "output_type": "execute_result"
    }
   ],
   "source": [
    "img_conv"
   ]
  },
  {
   "cell_type": "markdown",
   "metadata": {},
   "source": [
    "Q.4.Write python from scratch for 2D Atrous/Dilated cnvolution between input image(lena.jpg) and filter which is given below with rate 3:\n",
    "<o>\n",
    "filter= np.array([[1, 2, 1],[2, 4, 2], [1, 2, 1]])/16\n",
    "<o>                  "
   ]
  },
  {
   "cell_type": "code",
   "execution_count": 180,
   "metadata": {},
   "outputs": [],
   "source": [
    "import cv2\n",
    "import numpy as np"
   ]
  },
  {
   "cell_type": "code",
   "execution_count": 181,
   "metadata": {},
   "outputs": [],
   "source": [
    "def filt_arr(dilation_rate, filt):\n",
    "    rows = (np.shape(filt)[0])*dilation_rate-(dilation_rate-1)\n",
    "    columns = (np.shape(filt)[1])*dilation_rate-(dilation_rate-1)\n",
    "    filt_mod=np.zeros((rows,columns))\n",
    "    filt = np.reshape(filt,(np.shape(filt)[0]*np.shape(filt)[0]))\n",
    "    p=0\n",
    "    for i in range(np.shape(filt_mod)[0]):\n",
    "        if(i%dilation_rate==0):\n",
    "            for j in range(np.shape(filt_mod)[1]):\n",
    "                if((i+j)%dilation_rate==0):\n",
    "                    filt_mod[i][j]=filt[p]\n",
    "                    p=p+1\n",
    "    return filt_mod                "
   ]
  },
  {
   "cell_type": "code",
   "execution_count": 182,
   "metadata": {},
   "outputs": [],
   "source": [
    "def atrous_2d_conv(ip,filt_in,dilation_rate):\n",
    "    filt = filt_arr(dilation_rate, filt_in)\n",
    "    rows = np.shape(ip)[0]-np.shape(filt)[0]+1\n",
    "    columns = np.shape(ip)[1]-np.shape(filt)[1]+1\n",
    "    op = np.zeros(rows*columns)\n",
    "    p=0\n",
    "    for i in range(rows):\n",
    "        for j in range(columns):\n",
    "            mat = ip[i:np.shape(filt)[0]+i,j:np.shape(filt)[1]+j]\n",
    "            op[p]=int(np.round(np.sum(mat*filt)))\n",
    "            p=p+1\n",
    "    op = np.reshape(op,(rows,columns))   \n",
    "    return op"
   ]
  },
  {
   "cell_type": "code",
   "execution_count": 183,
   "metadata": {},
   "outputs": [],
   "source": [
    "img = cv2.imread('lena.jpg')\n",
    "dilation_rate = 3\n",
    "img_r = img[:,:,0]\n",
    "img_b = img[:,:,1]\n",
    "img_g = img[:,:,2]\n",
    "\n",
    "kernel = np.array([[1, 2, 1],[2, 4, 2],[1, 2, 1]])/16\n",
    "img_atrous2d_r = atrous_2d_conv(img_r,filt,dilation_rate)\n",
    "img_atrous2d_g = atrous_2d_conv(img_g,filt,dilation_rate)\n",
    "img_atrous2d_b = atrous_2d_conv(img_b,filt,dilation_rate)"
   ]
  },
  {
   "cell_type": "code",
   "execution_count": 184,
   "metadata": {},
   "outputs": [],
   "source": [
    "img_conv = np.zeros((np.shape(img_atrous2d_r)[0]*np.shape(img_atrous2d_r)[1]*np.shape(img)[2]))\n",
    "img_conv = np.reshape(img_conv,(np.shape(img_atrous2d_r)[0],np.shape(img_atrous2d_r)[1],np.shape(img)[2]))\n",
    "img_conv[:,:,0]=img_atrous2d_r\n",
    "img_conv[:,:,1]=img_atrous2d_g\n",
    "img_conv[:,:,2]=img_atrous2d_b"
   ]
  },
  {
   "cell_type": "code",
   "execution_count": 185,
   "metadata": {},
   "outputs": [
    {
     "data": {
      "text/plain": [
       "(506, 506, 3)"
      ]
     },
     "execution_count": 185,
     "metadata": {},
     "output_type": "execute_result"
    }
   ],
   "source": [
    "img_conv.shape"
   ]
  }
 ],
 "metadata": {
  "anaconda-cloud": {},
  "kernelspec": {
   "display_name": "Python 3",
   "language": "python",
   "name": "python3"
  },
  "language_info": {
   "codemirror_mode": {
    "name": "ipython",
    "version": 3
   },
   "file_extension": ".py",
   "mimetype": "text/x-python",
   "name": "python",
   "nbconvert_exporter": "python",
   "pygments_lexer": "ipython3",
   "version": "3.7.3"
  }
 },
 "nbformat": 4,
 "nbformat_minor": 1
}
